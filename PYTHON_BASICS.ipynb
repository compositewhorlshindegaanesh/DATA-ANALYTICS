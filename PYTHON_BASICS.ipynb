{
  "nbformat": 4,
  "nbformat_minor": 0,
  "metadata": {
    "colab": {
      "provenance": []
    },
    "kernelspec": {
      "name": "python3",
      "display_name": "Python 3"
    },
    "language_info": {
      "name": "python"
    }
  },
  "cells": [
    {
      "cell_type": "code",
      "execution_count": null,
      "metadata": {
        "id": "TJWC07-sEIfQ"
      },
      "outputs": [],
      "source": []
    },
    {
      "cell_type": "markdown",
      "source": [
        "#1. What is Python, and why is it popular?\n",
        "Python is a high-level, interpreted programming language known for its easy syntax and readability. It's popular due to its wide range of libraries, cross-platform support, and strong community, making it ideal for beginners and professionals alike."
      ],
      "metadata": {
        "id": "1BQCt6R1EQ0-"
      }
    },
    {
      "cell_type": "markdown",
      "source": [
        "#2. What is an interpreter in Python?\n",
        "An interpreter executes Python code line by line, converting high-level code into machine code during runtime, allowing for quick testing and debugging."
      ],
      "metadata": {
        "id": "sc6Z4eIAETtW"
      }
    },
    {
      "cell_type": "markdown",
      "source": [
        "#3. What are pre-defined keywords in Python?\n",
        "Pre-defined keywords are reserved words that have special meaning in Python, such as if, for, while, def, class, etc."
      ],
      "metadata": {
        "id": "qXexYD8jEc2t"
      }
    },
    {
      "cell_type": "markdown",
      "source": [
        "#4. Can keywords be used as variable names?\n",
        "No, keywords cannot be used as variable names because they are reserved for specific syntactic purposes in Python."
      ],
      "metadata": {
        "id": "0o1nN2h5Ehs4"
      }
    },
    {
      "cell_type": "markdown",
      "source": [
        "#5. What is mutability in Python?\n",
        "Mutability refers to whether an object’s value can be changed after it's created. Mutable objects can change, while immutable objects cannot."
      ],
      "metadata": {
        "id": "8XtxPbexEpy5"
      }
    },
    {
      "cell_type": "markdown",
      "source": [
        "#6.  Why are lists mutable, but tuples are immutable?\n",
        "Lists are mutable because they are designed to allow dynamic changes like adding or removing elements. Tuples are immutable for safety and performance in situations where constant data is needed."
      ],
      "metadata": {
        "id": "EFJmGO23E_L7"
      }
    },
    {
      "cell_type": "markdown",
      "source": [
        "#7. What is the difference between “==” and “is” operators in Python?\n",
        "== checks for value equality, whereas is checks for object identity (whether two references point to the same object in memory)."
      ],
      "metadata": {
        "id": "eUsyK_wRE_Iv"
      }
    },
    {
      "cell_type": "markdown",
      "source": [
        "#8. What are logical operators in Python?\n",
        "Logical operators are used to combine conditional statements. The main ones are and, or, and not."
      ],
      "metadata": {
        "id": "py-b4o-LE_GH"
      }
    },
    {
      "cell_type": "markdown",
      "source": [
        "#9. What is type casting in Python?\n",
        "Type casting is converting one data type into another, like converting a string to an integer."
      ],
      "metadata": {
        "id": "hCnePTtpE_Dg"
      }
    },
    {
      "cell_type": "markdown",
      "source": [
        "#10. What is the difference between implicit and explicit type casting?\n",
        "\n",
        "Implicit: Automatically done by Python when no data loss is expected.\n",
        "\n",
        "Explicit: Manually done using casting functions like int(), float(), etc."
      ],
      "metadata": {
        "id": "MgiyFpQ_E_Aj"
      }
    },
    {
      "cell_type": "markdown",
      "source": [
        "#11. What is the purpose of conditional statements in Python?\n",
        "They control the flow of execution based on conditions (e.g., if/else) to perform different actions."
      ],
      "metadata": {
        "id": "T5mAjWaAE-9q"
      }
    },
    {
      "cell_type": "markdown",
      "source": [
        "#12. How does the elif statement work?\n",
        "elif checks another condition if the previous if or elif was False. It prevents writing multiple nested if statements."
      ],
      "metadata": {
        "id": "JTEprHsIE-7I"
      }
    },
    {
      "cell_type": "markdown",
      "source": [
        "#13. What is the difference between for and while loops?\n",
        "\n",
        "for loop: Iterates over a sequence (e.g., list, range).\n",
        "\n",
        "while loop: Continues as long as a condition is True."
      ],
      "metadata": {
        "id": "kKnANHs8E-4g"
      }
    },
    {
      "cell_type": "markdown",
      "source": [
        "#14. Describe a scenario where a while loop is more suitable than a for loop.\n",
        "A while loop is better when the number of iterations isn’t known in advance, like reading input until the user types \"exit\".\n",
        "\n"
      ],
      "metadata": {
        "id": "-HvlItglE-2O"
      }
    },
    {
      "cell_type": "markdown",
      "source": [
        "#PRACTICAL QUESTIONS"
      ],
      "metadata": {
        "id": "Mw_q8NcrF8Nh"
      }
    },
    {
      "cell_type": "markdown",
      "source": [
        "#1. Print \"Hello, World!\""
      ],
      "metadata": {
        "id": "VtMSHVW-F8Kw"
      }
    },
    {
      "cell_type": "code",
      "source": [
        "print(\"Hello, World!\")\n"
      ],
      "metadata": {
        "colab": {
          "base_uri": "https://localhost:8080/"
        },
        "id": "fqfAK0uUGQUm",
        "outputId": "d4147ce4-86c5-4899-cdec-438e44aa389c"
      },
      "execution_count": 1,
      "outputs": [
        {
          "output_type": "stream",
          "name": "stdout",
          "text": [
            "Hello, World!\n"
          ]
        }
      ]
    },
    {
      "cell_type": "markdown",
      "source": [
        "#2 Display your name and age"
      ],
      "metadata": {
        "id": "g8alumOrGRg1"
      }
    },
    {
      "cell_type": "code",
      "source": [
        "name = \"Ganesh\"\n",
        "age = 25\n",
        "print(\"Name:\", name)\n",
        "print(\"Age:\", age)\n"
      ],
      "metadata": {
        "colab": {
          "base_uri": "https://localhost:8080/"
        },
        "id": "I8fZgXI9Gk-g",
        "outputId": "d99794ce-c7ce-443d-ec67-da96299d0008"
      },
      "execution_count": 2,
      "outputs": [
        {
          "output_type": "stream",
          "name": "stdout",
          "text": [
            "Name: Ganesh\n",
            "Age: 25\n"
          ]
        }
      ]
    },
    {
      "cell_type": "markdown",
      "source": [
        "#3. Print all pre-defined keywords using keyword library"
      ],
      "metadata": {
        "id": "HkCFGhXGGReF"
      }
    },
    {
      "cell_type": "code",
      "source": [
        "import keyword\n",
        "print(keyword.kwlist)\n"
      ],
      "metadata": {
        "colab": {
          "base_uri": "https://localhost:8080/"
        },
        "id": "jKJtfmYsGuno",
        "outputId": "9b74d986-3f33-4f57-aa4e-8767f6119493"
      },
      "execution_count": 3,
      "outputs": [
        {
          "output_type": "stream",
          "name": "stdout",
          "text": [
            "['False', 'None', 'True', 'and', 'as', 'assert', 'async', 'await', 'break', 'class', 'continue', 'def', 'del', 'elif', 'else', 'except', 'finally', 'for', 'from', 'global', 'if', 'import', 'in', 'is', 'lambda', 'nonlocal', 'not', 'or', 'pass', 'raise', 'return', 'try', 'while', 'with', 'yield']\n"
          ]
        }
      ]
    },
    {
      "cell_type": "markdown",
      "source": [
        "#4. Check if a word is a Python keyword"
      ],
      "metadata": {
        "id": "t4VbLnPDGRbS"
      }
    },
    {
      "cell_type": "code",
      "source": [
        "import keyword\n",
        "word = input(\"Enter a word: \")\n",
        "print(keyword.iskeyword(word))\n"
      ],
      "metadata": {
        "colab": {
          "base_uri": "https://localhost:8080/"
        },
        "id": "3RCI3P-0G39z",
        "outputId": "c4c226c6-58df-49d1-dc0c-74418c7c28a1"
      },
      "execution_count": 4,
      "outputs": [
        {
          "output_type": "stream",
          "name": "stdout",
          "text": [
            "Enter a word: NONE\n",
            "False\n"
          ]
        }
      ]
    },
    {
      "cell_type": "markdown",
      "source": [
        "#5. Create a list and tuple, show mutability"
      ],
      "metadata": {
        "id": "YFyelwYyGRZa"
      }
    },
    {
      "cell_type": "code",
      "source": [
        "my_list = [1, 2, 3]\n",
        "my_tuple = (1, 2, 3)\n",
        "my_list[0] = 100  # Works\n",
        "# my_tuple[0] = 100  # Error: tuple is immutable\n",
        "print(\"List:\", my_list)\n",
        "print(\"Tuple:\", my_tuple)\n"
      ],
      "metadata": {
        "colab": {
          "base_uri": "https://localhost:8080/"
        },
        "id": "wFyL2UH3HiaP",
        "outputId": "3d4b4b3a-fb23-43f3-ee00-e345a1a7c9ef"
      },
      "execution_count": 5,
      "outputs": [
        {
          "output_type": "stream",
          "name": "stdout",
          "text": [
            "List: [100, 2, 3]\n",
            "Tuple: (1, 2, 3)\n"
          ]
        }
      ]
    },
    {
      "cell_type": "markdown",
      "source": [
        "#6. Function to demonstrate mutable and immutable behavior"
      ],
      "metadata": {
        "id": "6x8p0zF7GRSd"
      }
    },
    {
      "cell_type": "code",
      "source": [
        "def modify_list(l):\n",
        "    l.append(10)\n",
        "def modify_number(n):\n",
        "    n += 10\n",
        "\n",
        "lst = [1, 2]\n",
        "num = 5\n",
        "modify_list(lst)\n",
        "modify_number(num)\n",
        "print(\"List after modification:\", lst)  # Changed\n",
        "print(\"Number after modification:\", num)  # Unchanged\n"
      ],
      "metadata": {
        "colab": {
          "base_uri": "https://localhost:8080/"
        },
        "id": "kEHUmCuwHp_D",
        "outputId": "4a4f80c0-e81a-4035-c1a4-62f8cf66bf95"
      },
      "execution_count": 6,
      "outputs": [
        {
          "output_type": "stream",
          "name": "stdout",
          "text": [
            "List after modification: [1, 2, 10]\n",
            "Number after modification: 5\n"
          ]
        }
      ]
    },
    {
      "cell_type": "markdown",
      "source": [
        "#7.Basic arithmetic operations"
      ],
      "metadata": {
        "id": "pDVJjqwKGRQL"
      }
    },
    {
      "cell_type": "code",
      "source": [
        "a = int(input(\"Enter first number: \"))\n",
        "b = int(input(\"Enter second number: \"))\n",
        "print(\"Sum:\", a + b)\n",
        "print(\"Difference:\", a - b)\n",
        "print(\"Product:\", a * b)\n",
        "print(\"Quotient:\", a / b)\n"
      ],
      "metadata": {
        "colab": {
          "base_uri": "https://localhost:8080/"
        },
        "id": "SVURBesLH6Qb",
        "outputId": "276394aa-d784-42ed-d7ef-a12df6ef7be3"
      },
      "execution_count": 7,
      "outputs": [
        {
          "output_type": "stream",
          "name": "stdout",
          "text": [
            "Enter first number: 20\n",
            "Enter second number: 320\n",
            "Sum: 340\n",
            "Difference: -300\n",
            "Product: 6400\n",
            "Quotient: 0.0625\n"
          ]
        }
      ]
    },
    {
      "cell_type": "markdown",
      "source": [
        "#8. Demonstrate logical operators"
      ],
      "metadata": {
        "id": "XGw4k0CRGRNU"
      }
    },
    {
      "cell_type": "code",
      "source": [
        "x = 10\n",
        "y = 20\n",
        "print(x > 5 and y > 15)\n",
        "print(x < 5 or y > 15)\n",
        "print(not(x > 5))\n"
      ],
      "metadata": {
        "colab": {
          "base_uri": "https://localhost:8080/"
        },
        "id": "DMw1wWFKIGsX",
        "outputId": "d52267c5-dcf4-4923-a7c9-7f6798eb21b8"
      },
      "execution_count": 8,
      "outputs": [
        {
          "output_type": "stream",
          "name": "stdout",
          "text": [
            "True\n",
            "True\n",
            "False\n"
          ]
        }
      ]
    },
    {
      "cell_type": "markdown",
      "source": [
        "#9. Convert input to int, float, and bool"
      ],
      "metadata": {
        "id": "QLNLk9kNGRH3"
      }
    },
    {
      "cell_type": "code",
      "source": [
        "s = input(\"Enter a number: \")\n",
        "print(\"Integer:\", int(s))\n",
        "print(\"Float:\", float(s))\n",
        "print(\"Boolean:\", bool(s))\n"
      ],
      "metadata": {
        "colab": {
          "base_uri": "https://localhost:8080/"
        },
        "id": "PDFvOFXQIavV",
        "outputId": "46ed898a-337b-428f-cb0f-ba0f75f8e27c"
      },
      "execution_count": 9,
      "outputs": [
        {
          "output_type": "stream",
          "name": "stdout",
          "text": [
            "Enter a number: 20\n",
            "Integer: 20\n",
            "Float: 20.0\n",
            "Boolean: True\n"
          ]
        }
      ]
    },
    {
      "cell_type": "markdown",
      "source": [
        "#10. Type casting with list elements"
      ],
      "metadata": {
        "id": "UDOB9avbE-s0"
      }
    },
    {
      "cell_type": "code",
      "source": [
        "str_list = ['1', '2', '3']\n",
        "int_list = list(map(int, str_list))\n",
        "print(\"Integer List:\", int_list)\n"
      ],
      "metadata": {
        "colab": {
          "base_uri": "https://localhost:8080/"
        },
        "id": "fsixNu03In7m",
        "outputId": "7bd58026-917f-4c67-d9d4-89f4e316e91a"
      },
      "execution_count": 10,
      "outputs": [
        {
          "output_type": "stream",
          "name": "stdout",
          "text": [
            "Integer List: [1, 2, 3]\n"
          ]
        }
      ]
    },
    {
      "cell_type": "markdown",
      "source": [
        "#11. Check if number is positive, negative, or zero\n",
        "\n",
        "\n"
      ],
      "metadata": {
        "id": "sSIn8_7PE-kI"
      }
    },
    {
      "cell_type": "code",
      "source": [
        "num = float(input(\"Enter a number: \"))\n",
        "if num > 0:\n",
        "    print(\"Positive\")\n",
        "elif num < 0:\n",
        "    print(\"Negative\")\n",
        "else:\n",
        "    print(\"Zero\")\n"
      ],
      "metadata": {
        "colab": {
          "base_uri": "https://localhost:8080/"
        },
        "id": "aCh_aPXmIxX-",
        "outputId": "52f28f42-ad6a-4d89-ea2c-3a4f61410841"
      },
      "execution_count": 11,
      "outputs": [
        {
          "output_type": "stream",
          "name": "stdout",
          "text": [
            "Enter a number: 10\n",
            "Positive\n"
          ]
        }
      ]
    },
    {
      "cell_type": "markdown",
      "source": [
        "#12. For loop: print numbers 1 to 10"
      ],
      "metadata": {
        "id": "jUevMY22IwhD"
      }
    },
    {
      "cell_type": "code",
      "source": [
        "for i in range(1, 11):\n",
        "    print(i)\n"
      ],
      "metadata": {
        "colab": {
          "base_uri": "https://localhost:8080/"
        },
        "id": "EV8FmNi7JC_U",
        "outputId": "54b4871f-6304-43f4-a3a8-19f7ce6aae6e"
      },
      "execution_count": 12,
      "outputs": [
        {
          "output_type": "stream",
          "name": "stdout",
          "text": [
            "1\n",
            "2\n",
            "3\n",
            "4\n",
            "5\n",
            "6\n",
            "7\n",
            "8\n",
            "9\n",
            "10\n"
          ]
        }
      ]
    },
    {
      "cell_type": "markdown",
      "source": [
        "#13. Sum of even numbers between 1 and 50"
      ],
      "metadata": {
        "id": "N9_xl-l9Iwem"
      }
    },
    {
      "cell_type": "code",
      "source": [
        "total = 0\n",
        "for i in range(2, 51, 2):\n",
        "    total += i\n",
        "print(\"Sum:\", total)\n"
      ],
      "metadata": {
        "colab": {
          "base_uri": "https://localhost:8080/"
        },
        "id": "m-DjNV5iJQnE",
        "outputId": "8a9ad7da-629f-49d2-f851-8e6651318994"
      },
      "execution_count": 13,
      "outputs": [
        {
          "output_type": "stream",
          "name": "stdout",
          "text": [
            "Sum: 650\n"
          ]
        }
      ]
    },
    {
      "cell_type": "markdown",
      "source": [
        "#14. Reverse a string using while loop"
      ],
      "metadata": {
        "id": "NDmirRAmIwbs"
      }
    },
    {
      "cell_type": "code",
      "source": [
        "s = input(\"Enter a string: \")\n",
        "i = len(s) - 1\n",
        "reversed_str = ''\n",
        "while i >= 0:\n",
        "    reversed_str += s[i]\n",
        "    i -= 1\n",
        "print(\"Reversed:\", reversed_str)\n"
      ],
      "metadata": {
        "colab": {
          "base_uri": "https://localhost:8080/"
        },
        "id": "I4icwtC2JiwG",
        "outputId": "1b87f15a-ce5f-4305-aaf3-7090b62e3a4d"
      },
      "execution_count": 14,
      "outputs": [
        {
          "output_type": "stream",
          "name": "stdout",
          "text": [
            "Enter a string: ganesh\n",
            "Reversed: hsenag\n"
          ]
        }
      ]
    },
    {
      "cell_type": "markdown",
      "source": [
        "#15. Factorial using while loop"
      ],
      "metadata": {
        "id": "El-c7LDrIwZY"
      }
    },
    {
      "cell_type": "code",
      "source": [
        "num = int(input(\"Enter a number: \"))\n",
        "factorial = 1\n",
        "while num > 1:\n",
        "    factorial *= num\n",
        "    num -= 1\n",
        "print(\"Factorial:\", factorial)\n"
      ],
      "metadata": {
        "colab": {
          "base_uri": "https://localhost:8080/"
        },
        "id": "Wfq4Y_zNJsES",
        "outputId": "a0d80f7c-91c7-4d1e-dc92-717464423ac1"
      },
      "execution_count": 15,
      "outputs": [
        {
          "output_type": "stream",
          "name": "stdout",
          "text": [
            "Enter a number: 03\n",
            "Factorial: 6\n"
          ]
        }
      ]
    },
    {
      "cell_type": "markdown",
      "source": [],
      "metadata": {
        "id": "E5YPrcEBIwWo"
      }
    },
    {
      "cell_type": "markdown",
      "source": [],
      "metadata": {
        "id": "ouD78NWDIwT-"
      }
    },
    {
      "cell_type": "markdown",
      "source": [],
      "metadata": {
        "id": "_ZtgykO0Iv2G"
      }
    }
  ]
}