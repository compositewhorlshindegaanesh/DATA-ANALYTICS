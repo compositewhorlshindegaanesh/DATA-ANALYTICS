{
 "cells": [
  {
   "cell_type": "markdown",
   "id": "cec46c7f",
   "metadata": {},
   "source": [
    "# EDA Assignment - Bike Details Dataset\n",
    "Assignment Code: DA-AG-009"
   ]
  },
  {
   "cell_type": "code",
   "execution_count": null,
   "id": "947298c2",
   "metadata": {},
   "outputs": [],
   "source": [
    "import pandas as pd\n",
    "import matplotlib.pyplot as plt\n",
    "import seaborn as sns\n",
    "\n",
    "# Load dataset\n",
    "df = pd.read_csv(\"BIKE DETAILS.csv\")"
   ]
  },
  {
   "cell_type": "markdown",
   "id": "0b767a02",
   "metadata": {},
   "source": [
    "### Question 1\n",
    "Read the Bike Details dataset into a Pandas DataFrame and display its first 10 rows.\n",
    "\n",
    "**Theory:** The first step in EDA is reading the dataset to understand its structure. Shape and column names provide insights into dataset size and features."
   ]
  },
  {
   "cell_type": "code",
   "execution_count": null,
   "id": "03528e09",
   "metadata": {},
   "outputs": [],
   "source": [
    "print(\"Shape:\", df.shape)\n",
    "print(\"Columns:\", df.columns)\n",
    "df.head(10)"
   ]
  },
  {
   "cell_type": "markdown",
   "id": "9e38f3bf",
   "metadata": {},
   "source": [
    "### Question 2\n",
    "Check for missing values in all columns.\n",
    "\n",
    "**Theory:** Missing values can be dropped or imputed (mean, median, mode, interpolation). Choice depends on data importance."
   ]
  },
  {
   "cell_type": "code",
   "execution_count": null,
   "id": "2b9bfb3f",
   "metadata": {},
   "outputs": [],
   "source": [
    "df.isnull().sum()"
   ]
  },
  {
   "cell_type": "markdown",
   "id": "dc991278",
   "metadata": {},
   "source": [
    "### Question 3\n",
    "Plot the distribution of selling prices.\n",
    "\n",
    "**Theory:** A histogram shows how selling prices are distributed and highlights skewness or concentration."
   ]
  },
  {
   "cell_type": "code",
   "execution_count": null,
   "id": "e7ca06ab",
   "metadata": {},
   "outputs": [],
   "source": [
    "plt.figure(figsize=(8,5))\n",
    "plt.hist(df['selling_price'], bins=50, edgecolor='black')\n",
    "plt.title('Distribution of Selling Prices')\n",
    "plt.xlabel('Selling Price')\n",
    "plt.ylabel('Frequency')\n",
    "plt.show()"
   ]
  },
  {
   "cell_type": "markdown",
   "id": "f492a73c",
   "metadata": {},
   "source": [
    "### Question 4\n",
    "Create a bar plot of average selling price per seller_type.\n",
    "\n",
    "**Theory:** Seller type impacts resale value. Dealers may charge more due to warranties/services."
   ]
  },
  {
   "cell_type": "code",
   "execution_count": null,
   "id": "00045d95",
   "metadata": {},
   "outputs": [],
   "source": [
    "plt.figure(figsize=(6,4))\n",
    "sns.barplot(x='seller_type', y='selling_price', data=df)\n",
    "plt.title('Average Selling Price by Seller Type')\n",
    "plt.show()"
   ]
  },
  {
   "cell_type": "markdown",
   "id": "5c0955a4",
   "metadata": {},
   "source": [
    "### Question 5\n",
    "Compute average km_driven per ownership type.\n",
    "\n",
    "**Theory:** Ownership history affects value. First-owner bikes are typically better maintained and priced higher."
   ]
  },
  {
   "cell_type": "code",
   "execution_count": null,
   "id": "49552131",
   "metadata": {},
   "outputs": [],
   "source": [
    "avg_km = df.groupby('owner')['km_driven'].mean().reset_index()\n",
    "plt.figure(figsize=(8,5))\n",
    "sns.barplot(x='owner', y='km_driven', data=avg_km)\n",
    "plt.title('Average Km Driven by Ownership Type')\n",
    "plt.xticks(rotation=45)\n",
    "plt.show()"
   ]
  },
  {
   "cell_type": "markdown",
   "id": "56f92961",
   "metadata": {},
   "source": [
    "### Question 6\n",
    "Remove outliers in km_driven using IQR.\n",
    "\n",
    "**Theory:** Outliers distort averages. The IQR method removes extreme values beyond 1.5*IQR from Q1/Q3."
   ]
  },
  {
   "cell_type": "code",
   "execution_count": null,
   "id": "eeef85fa",
   "metadata": {},
   "outputs": [],
   "source": [
    "Q1 = df['km_driven'].quantile(0.25)\n",
    "Q3 = df['km_driven'].quantile(0.75)\n",
    "IQR = Q3 - Q1\n",
    "\n",
    "before = df['km_driven'].describe()\n",
    "df_clean = df[(df['km_driven'] >= Q1 - 1.5*IQR) & (df['km_driven'] <= Q3 + 1.5*IQR)]\n",
    "after = df_clean['km_driven'].describe()\n",
    "\n",
    "print(\"Before:\\n\", before)\n",
    "print(\"\\nAfter:\\n\", after)"
   ]
  },
  {
   "cell_type": "markdown",
   "id": "1f7e54a0",
   "metadata": {},
   "source": [
    "### Question 7\n",
    "Scatter plot of year vs selling_price.\n",
    "\n",
    "**Theory:** Newer bikes generally sell for higher prices, showing depreciation with age."
   ]
  },
  {
   "cell_type": "code",
   "execution_count": null,
   "id": "1c993204",
   "metadata": {},
   "outputs": [],
   "source": [
    "plt.figure(figsize=(8,5))\n",
    "plt.scatter(df['year'], df['selling_price'], alpha=0.5)\n",
    "plt.title('Year vs. Selling Price')\n",
    "plt.xlabel('Year')\n",
    "plt.ylabel('Selling Price')\n",
    "plt.show()"
   ]
  },
  {
   "cell_type": "markdown",
   "id": "1b003824",
   "metadata": {},
   "source": [
    "### Question 8\n",
    "One-hot encode seller_type.\n",
    "\n",
    "**Theory:** Machine learning models require numeric inputs. One-hot encoding converts categorical values into binary columns."
   ]
  },
  {
   "cell_type": "code",
   "execution_count": null,
   "id": "56b5c3e0",
   "metadata": {},
   "outputs": [],
   "source": [
    "encoded = pd.get_dummies(df, columns=['seller_type'])\n",
    "encoded.head()"
   ]
  },
  {
   "cell_type": "markdown",
   "id": "e455f648",
   "metadata": {},
   "source": [
    "### Question 9\n",
    "Correlation heatmap.\n",
    "\n",
    "**Theory:** Heatmaps show correlations (-1 to +1). Strong positive/negative correlations indicate relationships or redundancy."
   ]
  },
  {
   "cell_type": "code",
   "execution_count": null,
   "id": "5ae9cae5",
   "metadata": {},
   "outputs": [],
   "source": [
    "plt.figure(figsize=(8,6))\n",
    "sns.heatmap(df.corr(numeric_only=True), annot=True, cmap='coolwarm')\n",
    "plt.title('Correlation Heatmap')\n",
    "plt.show()"
   ]
  },
  {
   "cell_type": "markdown",
   "id": "733baf8d",
   "metadata": {},
   "source": [
    "### Question 10\n",
    "Summary Findings.\n",
    "\n",
    "**Theory:**\n",
    "- **Important factors:** Year (age), km_driven, seller_type, ownership history.\n",
    "- **Data cleaning:** Missing values handled, outliers removed.\n",
    "- **Feature engineering:** One-hot encoding categorical variables.\n",
    "\n",
    "Overall, depreciation, mileage, and ownership history strongly impact bike resale value."
   ]
  }
 ],
 "metadata": {},
 "nbformat": 4,
 "nbformat_minor": 5
}
