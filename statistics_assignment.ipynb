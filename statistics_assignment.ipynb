{
  "cells": [
    {
      "cell_type": "markdown",
      "id": "c9201922",
      "metadata": {
        "id": "c9201922"
      },
      "source": [
        "### Question 1: What is the difference between descriptive statistics and inferential statistics? Explain with examples.\n",
        "\n",
        "Descriptive statistics summarizes and organizes data so it can be easily understood. It uses measures such as mean, median, mode, standard deviation, etc.\n",
        "Example: The average score of students in a class is 75.\n",
        "\n",
        "Inferential statistics uses a sample of data to make predictions or inferences about a population. It uses hypothesis testing, confidence intervals, regression analysis, etc.\n",
        "Example: Predicting the average height of all people in a city based on a sample."
      ]
    },
    {
      "cell_type": "markdown",
      "id": "c2f104a1",
      "metadata": {
        "id": "c2f104a1"
      },
      "source": [
        "### Question 2: What is sampling in statistics? Explain the differences between random and stratified sampling.\n",
        "\n",
        "Sampling is the process of selecting a subset of data from a population to make inferences about the population.\n",
        "Random Sampling: Every member of the population has an equal chance of being selected.\n",
        "Stratified Sampling: The population is divided into strata (groups) based on certain characteristics, and samples are taken from each group proportionally."
      ]
    },
    {
      "cell_type": "markdown",
      "id": "7359b4df",
      "metadata": {
        "id": "7359b4df"
      },
      "source": [
        "### Question 3: Define mean, median, and mode. Explain why these measures of central tendency are important.\n",
        "\n",
        "Mean: The average of the numbers.\n",
        "Median: The middle value when numbers are arranged in order.\n",
        "Mode: The value that appears most frequently.\n",
        "These are important because they provide a measure of central tendency, summarizing the data with a single value."
      ]
    },
    {
      "cell_type": "markdown",
      "id": "ac5d4259",
      "metadata": {
        "id": "ac5d4259"
      },
      "source": [
        "### Question 4: Explain skewness and kurtosis. What does a positive skew imply about the data?\n",
        "\n",
        "Skewness measures the asymmetry of the distribution of values.\n",
        "Kurtosis measures the 'tailedness' of the distribution.\n",
        "Positive skew means the right tail is longer; most values are concentrated on the left."
      ]
    },
    {
      "cell_type": "markdown",
      "id": "111c3df2",
      "metadata": {
        "id": "111c3df2"
      },
      "source": [
        "### Question 8: You are working as a data analyst in an e-commerce company. The marketing team wants to know if there is a relationship between advertising spend and daily sales.\n",
        "\n",
        "Covariance shows the direction of the relationship between two variables. Correlation shows both the direction and the strength of the relationship. A positive correlation means as advertising spend increases, daily sales also increase."
      ]
    },
    {
      "cell_type": "markdown",
      "id": "d2dd65ac",
      "metadata": {
        "id": "d2dd65ac"
      },
      "source": [
        "### Question 9: Your team has collected customer satisfaction survey data on a scale of 1-10 and wants to understand its distribution before launching a new product.\n",
        "\n",
        "We would use mean, median, standard deviation, and a histogram to understand the distribution of the survey scores."
      ]
    },
    {
      "cell_type": "markdown",
      "id": "5f9dbe9b",
      "metadata": {
        "id": "5f9dbe9b"
      },
      "source": [
        "### Question 5"
      ]
    },
    {
      "cell_type": "code",
      "execution_count": 1,
      "id": "9719a295",
      "metadata": {
        "id": "9719a295",
        "outputId": "7e8f9fc2-505e-4581-e3a5-bfcdda3de3c4",
        "colab": {
          "base_uri": "https://localhost:8080/"
        }
      },
      "outputs": [
        {
          "output_type": "stream",
          "name": "stdout",
          "text": [
            "Mean: 19.6, Median: 19, Mode: 12\n"
          ]
        }
      ],
      "source": [
        "numbers = [12, 15, 12, 18, 19, 12, 20, 22, 19, 19, 24, 24, 24, 26, 28]\n",
        "\n",
        "import statistics as stats\n",
        "\n",
        "mean_val = stats.mean(numbers)\n",
        "median_val = stats.median(numbers)\n",
        "mode_val = stats.mode(numbers)\n",
        "\n",
        "print(f\"Mean: {mean_val}, Median: {median_val}, Mode: {mode_val}\")"
      ]
    },
    {
      "cell_type": "markdown",
      "id": "1b8b67fb",
      "metadata": {
        "id": "1b8b67fb"
      },
      "source": [
        "### Question 6"
      ]
    },
    {
      "cell_type": "code",
      "execution_count": 2,
      "id": "68ad4b3a",
      "metadata": {
        "id": "68ad4b3a",
        "outputId": "103d73bc-cc01-4d61-b9d3-f3f7d008290e",
        "colab": {
          "base_uri": "https://localhost:8080/"
        }
      },
      "outputs": [
        {
          "output_type": "stream",
          "name": "stdout",
          "text": [
            "Covariance: 220.0, Correlation: 0.995893206467704\n"
          ]
        }
      ],
      "source": [
        "list_x = [10, 20, 30, 40, 50]\n",
        "list_y = [15, 25, 35, 45, 60]\n",
        "\n",
        "import numpy as np\n",
        "\n",
        "covariance = np.cov(list_x, list_y, bias=True)[0][1]\n",
        "correlation = np.corrcoef(list_x, list_y)[0][1]\n",
        "\n",
        "print(f\"Covariance: {covariance}, Correlation: {correlation}\")"
      ]
    },
    {
      "cell_type": "markdown",
      "id": "56b94da9",
      "metadata": {
        "id": "56b94da9"
      },
      "source": [
        "### Question 7"
      ]
    },
    {
      "cell_type": "code",
      "execution_count": 3,
      "id": "77808ff5",
      "metadata": {
        "id": "77808ff5",
        "outputId": "79b8413c-9657-42eb-dd13-d96bc4f7d432",
        "colab": {
          "base_uri": "https://localhost:8080/",
          "height": 452
        }
      },
      "outputs": [
        {
          "output_type": "display_data",
          "data": {
            "text/plain": [
              "<Figure size 640x480 with 1 Axes>"
            ],
            "image/png": "[encoded data removed]"
          },
          "metadata": {}
        }
      ],
      "source": [
        "import matplotlib.pyplot as plt\n",
        "\n",
        "data = [12, 14, 14, 15, 18, 19, 19, 21, 22, 22, 23, 23, 24, 26, 29, 35]\n",
        "\n",
        "plt.boxplot(data)\n",
        "plt.title(\"Boxplot of data\")\n",
        "plt.show()\n",
        "\n",
        "# Outliers explanation: Any point beyond 1.5 * IQR from the quartiles is an outlier."
      ]
    },
    {
      "cell_type": "code",
      "execution_count": null,
      "id": "344e5f53",
      "metadata": {
        "id": "344e5f53"
      },
      "outputs": [],
      "source": [
        "advertising_spend = [200, 250, 300, 400, 500]\n",
        "daily_sales = [2200, 2450, 2750, 3200, 4000]\n",
        "\n",
        "import numpy as np\n",
        "correlation = np.corrcoef(advertising_spend, daily_sales)[0][1]\n",
        "print(f\"Correlation between advertising spend and daily sales: {correlation}\")"
      ]
    },
    {
      "cell_type": "markdown",
      "id": "15c7c7e0",
      "metadata": {
        "id": "15c7c7e0"
      },
      "source": [
        "### Question 9"
      ]
    },
    {
      "cell_type": "code",
      "execution_count": 4,
      "id": "a12ced04",
      "metadata": {
        "id": "a12ced04",
        "outputId": "2a5a2a42-332a-472d-819c-ac3c6eaed652",
        "colab": {
          "base_uri": "https://localhost:8080/",
          "height": 472
        }
      },
      "outputs": [
        {
          "output_type": "display_data",
          "data": {
            "text/plain": [
              "<Figure size 640x480 with 1 Axes>"
            ],
            "image/png": "[encoded data removed]"
          },
          "metadata": {}
        }
      ],
      "source": [
        "survey_scores = [7, 8, 5, 9, 6, 7, 8, 9, 10, 4, 7, 6, 9, 8, 7]\n",
        "\n",
        "import matplotlib.pyplot as plt\n",
        "plt.hist(survey_scores, bins=6, edgecolor='black')\n",
        "plt.title(\"Histogram of Survey Scores\")\n",
        "plt.xlabel(\"Scores\")\n",
        "plt.ylabel(\"Frequency\")\n",
        "plt.show()"
      ]
    }
  ],
  "metadata": {
    "colab": {
      "provenance": []
    },
    "language_info": {
      "name": "python"
    },
    "kernelspec": {
      "name": "python3",
      "display_name": "Python 3"
    }
  },
  "nbformat": 4,
  "nbformat_minor": 5
}