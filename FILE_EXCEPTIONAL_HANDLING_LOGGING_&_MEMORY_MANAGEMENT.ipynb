{
  "nbformat": 4,
  "nbformat_minor": 0,
  "metadata": {
    "colab": {
      "provenance": []
    },
    "kernelspec": {
      "name": "python3",
      "display_name": "Python 3"
    },
    "language_info": {
      "name": "python"
    }
  },
  "cells": [
    {
      "cell_type": "markdown",
      "source": [
        "#1 What is the difference between interpreted and compiled languages?"
      ],
      "metadata": {
        "id": "AxOT7CpBsHIz"
      }
    },
    {
      "cell_type": "markdown",
      "source": [
        "Interpreted languages like Python execute code line-by-line through an interpreter. Compiled languages like C++ convert the entire program into machine code before execution, resulting in faster performance."
      ],
      "metadata": {
        "id": "IM9mYMfesumH"
      }
    },
    {
      "cell_type": "markdown",
      "source": [
        "#2 What is exception handling in Python?"
      ],
      "metadata": {
        "id": "wMuotiylszcv"
      }
    },
    {
      "cell_type": "markdown",
      "source": [
        "Exception handling in Python allows you to catch and manage errors during program execution using try, except, else, and finally blocks."
      ],
      "metadata": {
        "id": "u5Rjm1ars4Eu"
      }
    },
    {
      "cell_type": "markdown",
      "source": [
        "#3 What is the purpose of the finally block in exception handling?"
      ],
      "metadata": {
        "id": "8RgYK5fGs7Q0"
      }
    },
    {
      "cell_type": "markdown",
      "source": [
        "The finally block is used to execute cleanup code regardless of whether an exception occurred or not."
      ],
      "metadata": {
        "id": "5EycheokszaG"
      }
    },
    {
      "cell_type": "markdown",
      "source": [
        "#4 What is logging in Python?\n",
        "\n"
      ],
      "metadata": {
        "id": "UzMDBS2cszXd"
      }
    },
    {
      "cell_type": "markdown",
      "source": [
        "Logging provides a way to track events that happen during program execution. It helps in debugging and monitoring programs using Python's logging module."
      ],
      "metadata": {
        "id": "qTx6z0qsszUr"
      }
    },
    {
      "cell_type": "markdown",
      "source": [
        "#5 What is the significance of the del method in Python?"
      ],
      "metadata": {
        "id": "L23GSw6YtODq"
      }
    },
    {
      "cell_type": "markdown",
      "source": [
        "The __del__ method is a destructor that is called when an object is about to be destroyed. It's useful for resource cleanup."
      ],
      "metadata": {
        "id": "kjNietR0tN-2"
      }
    },
    {
      "cell_type": "markdown",
      "source": [
        "#6 What is the difference between import and from ... import in Python?"
      ],
      "metadata": {
        "id": "AJX7Swf4tN8N"
      }
    },
    {
      "cell_type": "markdown",
      "source": [
        "import module imports the full module. from module import item imports specific functions or variables from a module."
      ],
      "metadata": {
        "id": "iykOyIuMtN5c"
      }
    },
    {
      "cell_type": "markdown",
      "source": [
        "#7 How can you handle multiple exceptions in Python?\n"
      ],
      "metadata": {
        "id": "_Y53usomtNwA"
      }
    },
    {
      "cell_type": "markdown",
      "source": [
        "You can use multiple except blocks or handle a tuple of exceptions in one block.\n",
        "\n"
      ],
      "metadata": {
        "id": "26Tuyp_oszRt"
      }
    },
    {
      "cell_type": "markdown",
      "source": [
        "#8 What is the purpose of the with statement when handling files in Python?"
      ],
      "metadata": {
        "id": "j5vA6JA8szO4"
      }
    },
    {
      "cell_type": "markdown",
      "source": [
        "The with statement simplifies file handling by automatically managing file open and close operations."
      ],
      "metadata": {
        "id": "F3CHvUposnUd"
      }
    },
    {
      "cell_type": "markdown",
      "source": [
        "#9 What is the difference between multithreading and multiprocessing?"
      ],
      "metadata": {
        "id": "mRiKxZdIsoVA"
      }
    },
    {
      "cell_type": "markdown",
      "source": [
        "Multithreading runs multiple threads in a single process (good for I/O-bound tasks), while multiprocessing runs separate processes (good for CPU-bound tasks)."
      ],
      "metadata": {
        "id": "NKjsiOQxsoSX"
      }
    },
    {
      "cell_type": "markdown",
      "source": [
        "#10 What are the advantages of using logging in a program?"
      ],
      "metadata": {
        "id": "XIwH6HPWsoMj"
      }
    },
    {
      "cell_type": "markdown",
      "source": [
        "Logging allows developers to monitor program execution, debug issues, and maintain logs for future reference."
      ],
      "metadata": {
        "id": "9utbNBFisoJh"
      }
    },
    {
      "cell_type": "markdown",
      "source": [
        "#11 What is memory management in Python?"
      ],
      "metadata": {
        "id": "YSiS3JtGsoGg"
      }
    },
    {
      "cell_type": "markdown",
      "source": [
        "Memory management involves allocating and deallocating memory. Python uses reference counting and garbage collection."
      ],
      "metadata": {
        "id": "IXVYeHb1soDu"
      }
    },
    {
      "cell_type": "markdown",
      "source": [
        "#12 What are the basic steps involved in exception handling in Python?"
      ],
      "metadata": {
        "id": "tnl5Q0DjsoA8"
      }
    },
    {
      "cell_type": "markdown",
      "source": [
        "Use try to write risky code, except to handle exceptions, else for code if no error occurs, and finally for cleanup."
      ],
      "metadata": {
        "id": "N1pVaJoBsn98"
      }
    },
    {
      "cell_type": "markdown",
      "source": [
        "#13 Why is memory management important in Python?"
      ],
      "metadata": {
        "id": "4tkszJw3sn7K"
      }
    },
    {
      "cell_type": "markdown",
      "source": [
        "It ensures optimal use of system memory, prevents memory leaks, and improves performance."
      ],
      "metadata": {
        "id": "P7XF-0LyvUBC"
      }
    },
    {
      "cell_type": "markdown",
      "source": [
        "#14 What is the role of try and except in exception handling?"
      ],
      "metadata": {
        "id": "a_JJ3OCvvT9w"
      }
    },
    {
      "cell_type": "markdown",
      "source": [
        "try defines a block of code to test, and except handles the error if it occurs."
      ],
      "metadata": {
        "id": "7EL3znwDvT7H"
      }
    },
    {
      "cell_type": "markdown",
      "source": [
        "#15 How does Python's garbage collection system work?"
      ],
      "metadata": {
        "id": "CZccOGUnvT2k"
      }
    },
    {
      "cell_type": "markdown",
      "source": [
        "Python uses reference counting and a cyclic garbage collector to automatically free unused memory."
      ],
      "metadata": {
        "id": "px00o1ARsnyg"
      }
    },
    {
      "cell_type": "markdown",
      "source": [
        "#16 What is the purpose of the else block in exception handling?"
      ],
      "metadata": {
        "id": "Ry8zYZ3_v0TX"
      }
    },
    {
      "cell_type": "markdown",
      "source": [
        "\n",
        "The else block executes if no exceptions occur in the try block.\n",
        "\n",
        "\n",
        "\n",
        "\n",
        "\n",
        "\n",
        "\n"
      ],
      "metadata": {
        "id": "AOhiIGDmv0E_"
      }
    },
    {
      "cell_type": "markdown",
      "source": [
        "\n",
        "#17 What are the common logging levels in Python?"
      ],
      "metadata": {
        "id": "5NbUrJBIz-TA"
      }
    },
    {
      "cell_type": "markdown",
      "source": [
        "DEBUG, INFO, WARNING, ERROR, CRITICAL."
      ],
      "metadata": {
        "id": "GbrSEoGKsnZU"
      }
    },
    {
      "cell_type": "markdown",
      "source": [
        "\n",
        "#18 What is the difference between os.fork() and multiprocessing in Python?\n",
        "\n"
      ],
      "metadata": {
        "id": "eiLtRvCR0PEY"
      }
    },
    {
      "cell_type": "markdown",
      "source": [
        "os.fork() is Unix-specific and low-level, while multiprocessing is cross-platform and user-friendly for parallelism."
      ],
      "metadata": {
        "id": "fCDwwdDx0O9E"
      }
    },
    {
      "cell_type": "markdown",
      "source": [
        "\n",
        "#19 What is the importance of closing a file in Python?\n",
        "\n"
      ],
      "metadata": {
        "id": "3qi46Dya0Oqi"
      }
    },
    {
      "cell_type": "markdown",
      "source": [
        "It releases system resources and ensures data is saved correctly to the file."
      ],
      "metadata": {
        "id": "tU78puff0zFP"
      }
    },
    {
      "cell_type": "markdown",
      "source": [
        "#20 What is the difference between file.read() and file.readline() in Python?\n",
        "\n"
      ],
      "metadata": {
        "id": "DGLcUxSS08KK"
      }
    },
    {
      "cell_type": "markdown",
      "source": [
        "read() reads the whole file at once; readline() reads the file line by line."
      ],
      "metadata": {
        "id": "AigFzUe41AA3"
      }
    },
    {
      "cell_type": "markdown",
      "source": [
        "\n",
        "#21 What is the logging module in Python used for?"
      ],
      "metadata": {
        "id": "nvAt_zLh1H4h"
      }
    },
    {
      "cell_type": "markdown",
      "source": [
        "It is used to record log messages to a file or console, helping in debugging and monitoring."
      ],
      "metadata": {
        "id": "z9nhcpe41HtE"
      }
    },
    {
      "cell_type": "markdown",
      "source": [
        "#22 What is the os module in Python used for in file handling?"
      ],
      "metadata": {
        "id": "SXnJElRO1TwR"
      }
    },
    {
      "cell_type": "markdown",
      "source": [
        "It provides functions to interact with the operating system, including file and directory operations."
      ],
      "metadata": {
        "id": "1QxRdOG11Tqf"
      }
    },
    {
      "cell_type": "markdown",
      "source": [
        "#23 What are the challenges associated with memory management in Python?"
      ],
      "metadata": {
        "id": "nVLt9KhY1Tne"
      }
    },
    {
      "cell_type": "markdown",
      "source": [
        "Handling reference cycles, managing large datasets, and optimizing memory usage can be challenging."
      ],
      "metadata": {
        "id": "-Lfdn7TT1Tkd"
      }
    },
    {
      "cell_type": "markdown",
      "source": [
        "#24 How do you raise an exception manually in Python?"
      ],
      "metadata": {
        "id": "zflkxcRc1ip2"
      }
    },
    {
      "cell_type": "markdown",
      "source": [
        "Using the raise keyword, e.g., raise ValueError(\"Invalid input\")."
      ],
      "metadata": {
        "id": "-DoWtkRD1icX"
      }
    },
    {
      "cell_type": "markdown",
      "source": [
        "#25 Why is it important to use multithreading in certain applications?"
      ],
      "metadata": {
        "id": "WZp483tH1qlk"
      }
    },
    {
      "cell_type": "markdown",
      "source": [
        "It improves performance in I/O-bound programs by allowing concurrent execution of tasks."
      ],
      "metadata": {
        "id": "oT4btNVO1taa"
      }
    },
    {
      "cell_type": "markdown",
      "source": [
        "# PRACTICAL QUESTIONS"
      ],
      "metadata": {
        "id": "gr5fVpx-7CjJ"
      }
    },
    {
      "cell_type": "markdown",
      "source": [],
      "metadata": {
        "id": "4sJBI7mU7Ccs"
      }
    },
    {
      "cell_type": "markdown",
      "source": [
        "#1 How can you open a file for writing in Python and write a string to it?"
      ],
      "metadata": {
        "id": "V2hRDg-U3Vai"
      }
    },
    {
      "cell_type": "code",
      "source": [
        "with open(\"file.txt\", \"w\") as file:\n",
        "    file.write(\"Hello, Python!\")"
      ],
      "metadata": {
        "id": "UTozVibX3fYN"
      },
      "execution_count": 8,
      "outputs": []
    },
    {
      "cell_type": "markdown",
      "source": [
        "#2 Read contents of a file line by line:"
      ],
      "metadata": {
        "id": "dTxJ7g1x3VXp"
      }
    },
    {
      "cell_type": "code",
      "source": [
        "with open(\"file.txt\", \"r\") as file:\n",
        "    for line in file:\n",
        "        print(line.strip())"
      ],
      "metadata": {
        "colab": {
          "base_uri": "https://localhost:8080/"
        },
        "id": "m__znjvP3pWX",
        "outputId": "c3b06978-3dd3-41ee-e087-ba53362d3082"
      },
      "execution_count": 4,
      "outputs": [
        {
          "output_type": "stream",
          "name": "stdout",
          "text": [
            "Hello, Python!\n"
          ]
        }
      ]
    },
    {
      "cell_type": "markdown",
      "source": [
        "#3 Handle file not found error:"
      ],
      "metadata": {
        "id": "Er1OfnUj3VVJ"
      }
    },
    {
      "cell_type": "code",
      "source": [
        "try:\n",
        "    with open(\"nonexistent.txt\", \"r\") as file:\n",
        "        print(file.read())\n",
        "except FileNotFoundError:\n",
        "    print(\"File not found!\")"
      ],
      "metadata": {
        "colab": {
          "base_uri": "https://localhost:8080/"
        },
        "id": "fCTf_0vL3wfR",
        "outputId": "89b36419-f60f-4407-d051-78a1b2db5f38"
      },
      "execution_count": 3,
      "outputs": [
        {
          "output_type": "stream",
          "name": "stdout",
          "text": [
            "File not found!\n"
          ]
        }
      ]
    },
    {
      "cell_type": "markdown",
      "source": [
        "#4 Copy content from one file to another:\n",
        "\n",
        "\n",
        "\n"
      ],
      "metadata": {
        "id": "qJ5UeaH63VR1"
      }
    },
    {
      "cell_type": "markdown",
      "source": [
        "with open(\"source.txt\", \"r\") as src:\n",
        "    with open(\"destination.txt\", \"w\") as dst:\n",
        "        dst.write(src.read())"
      ],
      "metadata": {
        "id": "MEenozKH3VPQ"
      }
    },
    {
      "cell_type": "markdown",
      "source": [
        "#5 Handle division by zero:"
      ],
      "metadata": {
        "id": "3sMsV9a34SW7"
      }
    },
    {
      "cell_type": "code",
      "source": [
        "try:\n",
        "    result = 10 / 0\n",
        "except ZeroDivisionError:\n",
        "    print(\"Cannot divide by zero\")"
      ],
      "metadata": {
        "colab": {
          "base_uri": "https://localhost:8080/"
        },
        "id": "5RuwkmAk4sR2",
        "outputId": "472c8097-7146-446e-f241-05b8effcd3e9"
      },
      "execution_count": 9,
      "outputs": [
        {
          "output_type": "stream",
          "name": "stdout",
          "text": [
            "Cannot divide by zero\n"
          ]
        }
      ]
    },
    {
      "cell_type": "markdown",
      "source": [
        "#6 Log error on division by zero:"
      ],
      "metadata": {
        "id": "V-PV45h23VMT"
      }
    },
    {
      "cell_type": "markdown",
      "source": [],
      "metadata": {
        "id": "ai_AdP747SmS"
      }
    },
    {
      "cell_type": "code",
      "source": [
        "import logging\n",
        "logging.basicConfig(filename=\"error.log\", level=logging.ERROR)\n",
        "try:\n",
        "    x = 1 / 0\n",
        "except ZeroDivisionError as e:\n",
        "    logging.error(\"Division by zero occurred: %s\", e)"
      ],
      "metadata": {
        "colab": {
          "base_uri": "https://localhost:8080/"
        },
        "id": "aTpQi74C44WV",
        "outputId": "2efe2caf-7b56-409d-ca62-5fe9f906a70c"
      },
      "execution_count": 10,
      "outputs": [
        {
          "output_type": "stream",
          "name": "stderr",
          "text": [
            "ERROR:root:Division by zero occurred: division by zero\n"
          ]
        }
      ]
    },
    {
      "cell_type": "markdown",
      "source": [
        "#7 Log at multiple levels:"
      ],
      "metadata": {
        "id": "jkQw780W3VJw"
      }
    },
    {
      "cell_type": "code",
      "source": [
        "import logging\n",
        "logging.basicConfig(level=logging.DEBUG)\n",
        "logging.debug(\"Debug message\")\n",
        "logging.info(\"Info message\")\n",
        "logging.warning(\"Warning message\")\n",
        "logging.error(\"Error message\")\n",
        "logging.critical(\"Critical message\")"
      ],
      "metadata": {
        "colab": {
          "base_uri": "https://localhost:8080/"
        },
        "id": "PlCzAAcR5D7y",
        "outputId": "5b9fffb3-ad46-4da2-8820-f0e661f19446"
      },
      "execution_count": 11,
      "outputs": [
        {
          "output_type": "stream",
          "name": "stderr",
          "text": [
            "WARNING:root:Warning message\n",
            "ERROR:root:Error message\n",
            "CRITICAL:root:Critical message\n"
          ]
        }
      ]
    },
    {
      "cell_type": "markdown",
      "source": [
        "#8 File open error handling:"
      ],
      "metadata": {
        "id": "HV8MOiG63VG3"
      }
    },
    {
      "cell_type": "code",
      "source": [
        "try:\n",
        "    with open(\"file.txt\", \"r\") as file:\n",
        "        print(file.read())\n",
        "except IOError:\n",
        "    print(\"Error opening file\")"
      ],
      "metadata": {
        "colab": {
          "base_uri": "https://localhost:8080/"
        },
        "id": "htV6thjH5Kw-",
        "outputId": "cf8bb404-34e3-4798-8ae6-32cd55455146"
      },
      "execution_count": 13,
      "outputs": [
        {
          "output_type": "stream",
          "name": "stdout",
          "text": [
            "Hello, Python!\n"
          ]
        }
      ]
    },
    {
      "cell_type": "markdown",
      "source": [
        "#9 Read file into list:"
      ],
      "metadata": {
        "id": "6ZiF0e6v3VB8"
      }
    },
    {
      "cell_type": "code",
      "source": [
        "with open(\"file.txt\", \"r\") as file:\n",
        "    lines = file.readlines()"
      ],
      "metadata": {
        "id": "Kp2G2uyR5UHY"
      },
      "execution_count": 20,
      "outputs": []
    },
    {
      "cell_type": "markdown",
      "source": [
        "#10 Append to existing file:"
      ],
      "metadata": {
        "id": "QE5fOGRu5ZA5"
      }
    },
    {
      "cell_type": "code",
      "source": [
        "with open(\"file.txt\", \"a\") as file:\n",
        "    file.write(\"More data\\n\")"
      ],
      "metadata": {
        "id": "nBanrxbV5en6"
      },
      "execution_count": 21,
      "outputs": []
    },
    {
      "cell_type": "markdown",
      "source": [
        "#11 Handle missing dictionary key:"
      ],
      "metadata": {
        "id": "ZnG-RzOg5nKg"
      }
    },
    {
      "cell_type": "code",
      "source": [
        "try:\n",
        "    data = {\"name\": \"Alice\"}\n",
        "    print(data[\"age\"])\n",
        "except KeyError:\n",
        "    print(\"Key not found\")"
      ],
      "metadata": {
        "colab": {
          "base_uri": "https://localhost:8080/"
        },
        "id": "qBvomWYM5poq",
        "outputId": "6ab38db2-ff38-437b-96f5-194d822e4c31"
      },
      "execution_count": 22,
      "outputs": [
        {
          "output_type": "stream",
          "name": "stdout",
          "text": [
            "Key not found\n"
          ]
        }
      ]
    },
    {
      "cell_type": "markdown",
      "source": [
        "#12 Multiple exception handling:"
      ],
      "metadata": {
        "id": "dwlCKTAe5s3n"
      }
    },
    {
      "cell_type": "code",
      "source": [
        "try:\n",
        "    lst = [1, 2]\n",
        "    print(lst[5])\n",
        "except IndexError:\n",
        "    print(\"Index Error\")\n",
        "except KeyError:\n",
        "    print(\"Key Error\")"
      ],
      "metadata": {
        "colab": {
          "base_uri": "https://localhost:8080/"
        },
        "id": "uqYOgh3550-O",
        "outputId": "7d05fd75-d42d-4493-d95b-aaa48c6012eb"
      },
      "execution_count": 23,
      "outputs": [
        {
          "output_type": "stream",
          "name": "stdout",
          "text": [
            "Index Error\n"
          ]
        }
      ]
    },
    {
      "cell_type": "markdown",
      "source": [
        "#13 Check if file exists:"
      ],
      "metadata": {
        "id": "Br_dxWJk543R"
      }
    },
    {
      "cell_type": "code",
      "source": [
        "import os\n",
        "if os.path.exists(\"file.txt\"):\n",
        "    print(\"File exists\")"
      ],
      "metadata": {
        "colab": {
          "base_uri": "https://localhost:8080/"
        },
        "id": "M-Fsdx836Aa5",
        "outputId": "efd09741-477d-4134-aec1-554c53a17b21"
      },
      "execution_count": 24,
      "outputs": [
        {
          "output_type": "stream",
          "name": "stdout",
          "text": [
            "File exists\n"
          ]
        }
      ]
    },
    {
      "cell_type": "markdown",
      "source": [
        "#14 Log info and error:"
      ],
      "metadata": {
        "id": "Ll0Gi1Iv52sU"
      }
    },
    {
      "cell_type": "code",
      "source": [
        "import logging\n",
        "logging.basicConfig(filename=\"app.log\", level=logging.INFO)\n",
        "logging.info(\"Program started\")\n",
        "try:\n",
        "    x = 1 / 0\n",
        "except ZeroDivisionError as e:\n",
        "    logging.error(\"Error occurred: %s\", e)"
      ],
      "metadata": {
        "colab": {
          "base_uri": "https://localhost:8080/"
        },
        "id": "H9unEFIt6INk",
        "outputId": "1aab7840-c420-4b50-ae41-195a59cdf956"
      },
      "execution_count": 25,
      "outputs": [
        {
          "output_type": "stream",
          "name": "stderr",
          "text": [
            "ERROR:root:Error occurred: division by zero\n"
          ]
        }
      ]
    },
    {
      "cell_type": "markdown",
      "source": [
        "#15 Print file or handle empty:"
      ],
      "metadata": {
        "id": "aRNhmizx52pb"
      }
    },
    {
      "cell_type": "code",
      "source": [
        "with open(\"file.txt\", \"r\") as file:\n",
        "    content = file.read()\n",
        "    if content:\n",
        "        print(content)\n",
        "    else:\n",
        "        print(\"File is empty\")"
      ],
      "metadata": {
        "colab": {
          "base_uri": "https://localhost:8080/"
        },
        "id": "O5_Wbenb6MXR",
        "outputId": "894a4a29-11ab-47a6-d082-c087b20e556a"
      },
      "execution_count": 26,
      "outputs": [
        {
          "output_type": "stream",
          "name": "stdout",
          "text": [
            "Hello, Python!More data\n",
            "\n"
          ]
        }
      ]
    },
    {
      "cell_type": "markdown",
      "source": [
        "#16 Memory profiling (requires memory_profiler):"
      ],
      "metadata": {
        "id": "ZZ1-HMmJ52mf"
      }
    },
    {
      "cell_type": "code",
      "source": [
        "from memory_profiler import profile\n",
        "\n",
        "@profile\n",
        "def calc():\n",
        "    a = [i for i in range(100000)]\n",
        "    return sum(a)\n",
        "\n",
        "calc()"
      ],
      "metadata": {
        "colab": {
          "base_uri": "https://localhost:8080/",
          "height": 383
        },
        "id": "xXGuZi6l6RpL",
        "outputId": "6de3cfd3-66f3-44b3-b5eb-c4367a2c863d"
      },
      "execution_count": 27,
      "outputs": [
        {
          "output_type": "error",
          "ename": "ModuleNotFoundError",
          "evalue": "No module named 'memory_profiler'",
          "traceback": [
            "\u001b[0;31m---------------------------------------------------------------------------\u001b[0m",
            "\u001b[0;31mModuleNotFoundError\u001b[0m                       Traceback (most recent call last)",
            "\u001b[0;32m/tmp/ipython-input-2685720070.py\u001b[0m in \u001b[0;36m<cell line: 0>\u001b[0;34m()\u001b[0m\n\u001b[0;32m----> 1\u001b[0;31m \u001b[0;32mfrom\u001b[0m \u001b[0mmemory_profiler\u001b[0m \u001b[0;32mimport\u001b[0m \u001b[0mprofile\u001b[0m\u001b[0;34m\u001b[0m\u001b[0;34m\u001b[0m\u001b[0m\n\u001b[0m\u001b[1;32m      2\u001b[0m \u001b[0;34m\u001b[0m\u001b[0m\n\u001b[1;32m      3\u001b[0m \u001b[0;34m@\u001b[0m\u001b[0mprofile\u001b[0m\u001b[0;34m\u001b[0m\u001b[0;34m\u001b[0m\u001b[0m\n\u001b[1;32m      4\u001b[0m \u001b[0;32mdef\u001b[0m \u001b[0mcalc\u001b[0m\u001b[0;34m(\u001b[0m\u001b[0;34m)\u001b[0m\u001b[0;34m:\u001b[0m\u001b[0;34m\u001b[0m\u001b[0;34m\u001b[0m\u001b[0m\n\u001b[1;32m      5\u001b[0m     \u001b[0ma\u001b[0m \u001b[0;34m=\u001b[0m \u001b[0;34m[\u001b[0m\u001b[0mi\u001b[0m \u001b[0;32mfor\u001b[0m \u001b[0mi\u001b[0m \u001b[0;32min\u001b[0m \u001b[0mrange\u001b[0m\u001b[0;34m(\u001b[0m\u001b[0;36m100000\u001b[0m\u001b[0;34m)\u001b[0m\u001b[0;34m]\u001b[0m\u001b[0;34m\u001b[0m\u001b[0;34m\u001b[0m\u001b[0m\n",
            "\u001b[0;31mModuleNotFoundError\u001b[0m: No module named 'memory_profiler'",
            "",
            "\u001b[0;31m---------------------------------------------------------------------------\u001b[0;32m\nNOTE: If your import is failing due to a missing package, you can\nmanually install dependencies using either !pip or !apt.\n\nTo view examples of installing some common dependencies, click the\n\"Open Examples\" button below.\n\u001b[0;31m---------------------------------------------------------------------------\u001b[0m\n"
          ],
          "errorDetails": {
            "actions": [
              {
                "action": "open_url",
                "actionText": "Open Examples",
                "url": "/notebooks/snippets/importing_libraries.ipynb"
              }
            ]
          }
        }
      ]
    },
    {
      "cell_type": "markdown",
      "source": [
        "#17 Write list of numbers to file:\n"
      ],
      "metadata": {
        "id": "VxQqZNSo52jt"
      }
    },
    {
      "cell_type": "code",
      "source": [
        "with open(\"numbers.txt\", \"w\") as file:\n",
        "    for i in range(1, 11):\n",
        "        file.write(f\"{i}\\n\")"
      ],
      "metadata": {
        "id": "aQnG_-bI6Y8r"
      },
      "execution_count": 28,
      "outputs": []
    },
    {
      "cell_type": "markdown",
      "source": [
        "#18 Logging with rotation:"
      ],
      "metadata": {
        "id": "DIxt6MkJ6b90"
      }
    },
    {
      "cell_type": "code",
      "source": [
        "import logging\n",
        "from logging.handlers import RotatingFileHandler\n",
        "\n",
        "handler = RotatingFileHandler(\"logfile.log\", maxBytes=1024*1024, backupCount=3)\n",
        "logging.basicConfig(handlers=[handler], level=logging.INFO)\n",
        "logging.info(\"Logging with rotation\")"
      ],
      "metadata": {
        "id": "RwViQjsz6blu"
      },
      "execution_count": 30,
      "outputs": []
    },
    {
      "cell_type": "markdown",
      "source": [
        "#19 Handle IndexError and KeyError:"
      ],
      "metadata": {
        "id": "26JcXdje6iRn"
      }
    },
    {
      "cell_type": "code",
      "source": [
        "try:\n",
        "    lst = [1]\n",
        "    print(lst[2])\n",
        "except IndexError:\n",
        "    print(\"IndexError occurred\")\n",
        "\n",
        "try:\n",
        "    d = {}\n",
        "    print(d['key'])\n",
        "except KeyError:\n",
        "    print(\"KeyError occurred\")"
      ],
      "metadata": {
        "colab": {
          "base_uri": "https://localhost:8080/"
        },
        "id": "nH29B-eY6bi9",
        "outputId": "6987dc22-1f09-4204-dfee-d97e7cec13b5"
      },
      "execution_count": 31,
      "outputs": [
        {
          "output_type": "stream",
          "name": "stdout",
          "text": [
            "IndexError occurred\n",
            "KeyError occurred\n"
          ]
        }
      ]
    },
    {
      "cell_type": "markdown",
      "source": [
        "#20 Read using context manager:"
      ],
      "metadata": {
        "id": "TqQaimD76oO2"
      }
    },
    {
      "cell_type": "code",
      "source": [
        "with open(\"file.txt\", \"r\") as file:\n",
        "    print(file.read())"
      ],
      "metadata": {
        "colab": {
          "base_uri": "https://localhost:8080/"
        },
        "id": "9EalcpIm6qg_",
        "outputId": "b74e5059-1cec-49a6-b462-f5a7a0971273"
      },
      "execution_count": 32,
      "outputs": [
        {
          "output_type": "stream",
          "name": "stdout",
          "text": [
            "Hello, Python!More data\n",
            "\n"
          ]
        }
      ]
    },
    {
      "cell_type": "markdown",
      "source": [
        "#21 Count word occurrences:"
      ],
      "metadata": {
        "id": "KMkjeubg6tUX"
      }
    },
    {
      "cell_type": "code",
      "source": [
        "word = \"Python\"\n",
        "count = 0\n",
        "with open(\"file.txt\", \"r\") as file:\n",
        "    for line in file:\n",
        "        count += line.count(word)\n",
        "print(\"Occurrences:\", count)"
      ],
      "metadata": {
        "colab": {
          "base_uri": "https://localhost:8080/"
        },
        "id": "Yz1hwAwf6z_R",
        "outputId": "365641b1-c48f-4053-e70c-b2142b0897ae"
      },
      "execution_count": 33,
      "outputs": [
        {
          "output_type": "stream",
          "name": "stdout",
          "text": [
            "Occurrences: 1\n"
          ]
        }
      ]
    },
    {
      "cell_type": "markdown",
      "source": [
        "#22 Check if file is empty:"
      ],
      "metadata": {
        "id": "1cph4ecr61pV"
      }
    },
    {
      "cell_type": "code",
      "source": [
        "import os\n",
        "if os.stat(\"file.txt\").st_size == 0:\n",
        "    print(\"File is empty\")"
      ],
      "metadata": {
        "id": "p6puRMAS6bSJ"
      },
      "execution_count": 35,
      "outputs": []
    },
    {
      "cell_type": "markdown",
      "source": [
        "#23 Log error during file handling:"
      ],
      "metadata": {
        "id": "_GfedWYo67A3"
      }
    },
    {
      "cell_type": "code",
      "source": [
        "import logging\n",
        "logging.basicConfig(filename=\"file_errors.log\", level=logging.ERROR)\n",
        "try:\n",
        "    with open(\"file.txt\", \"r\") as file:\n",
        "        print(file.read())\n",
        "except Exception as e:\n",
        "    logging.error(\"Error handling file: %s\", e)"
      ],
      "metadata": {
        "colab": {
          "base_uri": "https://localhost:8080/"
        },
        "id": "HAchaCvs69KG",
        "outputId": "9caf5d1e-26bb-454c-9723-feb6d60bb9fc"
      },
      "execution_count": 36,
      "outputs": [
        {
          "output_type": "stream",
          "name": "stdout",
          "text": [
            "Hello, Python!More data\n",
            "\n"
          ]
        }
      ]
    },
    {
      "cell_type": "code",
      "execution_count": null,
      "metadata": {
        "id": "U_R-E_1_sEOe"
      },
      "outputs": [],
      "source": []
    },
    {
      "cell_type": "code",
      "metadata": {
        "id": "d1fabbd0"
      },
      "source": [
        "# Create a dummy source.txt file for demonstration\n",
        "with open(\"source.txt\", \"w\") as f:\n",
        "    f.write(\"This is the content of the source file.\")"
      ],
      "execution_count": null,
      "outputs": []
    }
  ]
}