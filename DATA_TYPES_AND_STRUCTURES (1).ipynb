{
  "nbformat": 4,
  "nbformat_minor": 0,
  "metadata": {
    "colab": {
      "provenance": []
    },
    "kernelspec": {
      "name": "python3",
      "display_name": "Python 3"
    },
    "language_info": {
      "name": "python"
    }
  },
  "cells": [
    {
      "cell_type": "markdown",
      "source": [
        "#1 Create a string with your name and print it\n"
      ],
      "metadata": {
        "id": "izcKRQPqTzH7"
      }
    },
    {
      "cell_type": "code",
      "source": [
        "name = \"Ganesh Shinde\"\n",
        "print(name)\n"
      ],
      "metadata": {
        "colab": {
          "base_uri": "https://localhost:8080/"
        },
        "id": "nNmkRRJQTRiZ",
        "outputId": "2b31343a-2986-45b1-e2f7-31ecbc4fd85e"
      },
      "execution_count": null,
      "outputs": [
        {
          "output_type": "stream",
          "name": "stdout",
          "text": [
            "Ganesh Shinde\n"
          ]
        }
      ]
    },
    {
      "cell_type": "markdown",
      "source": [
        "#2 Find the length of the string \"Hello World\""
      ],
      "metadata": {
        "id": "5uImnVN5TfDP"
      }
    },
    {
      "cell_type": "code",
      "source": [
        "text = \"Hello World\"\n",
        "print(len(text))"
      ],
      "metadata": {
        "colab": {
          "base_uri": "https://localhost:8080/"
        },
        "id": "SImwYZUlUAIp",
        "outputId": "e862a31f-5bd0-4765-9af5-8c8260a4e9a7"
      },
      "execution_count": null,
      "outputs": [
        {
          "output_type": "stream",
          "name": "stdout",
          "text": [
            "11\n"
          ]
        }
      ]
    },
    {
      "cell_type": "markdown",
      "source": [
        "#3 Slice the first 3 characters from the string \"Python Programming\""
      ],
      "metadata": {
        "id": "_m-_4LnGUSQJ"
      }
    },
    {
      "cell_type": "code",
      "source": [
        "text = \"Python Programming\"\n",
        "print(text[:3])\n"
      ],
      "metadata": {
        "colab": {
          "base_uri": "https://localhost:8080/"
        },
        "id": "zJF2kyl7UcJ_",
        "outputId": "1e69bf3c-66fb-43d8-cbdd-d364544c31fb"
      },
      "execution_count": null,
      "outputs": [
        {
          "output_type": "stream",
          "name": "stdout",
          "text": [
            "Pyt\n"
          ]
        }
      ]
    },
    {
      "cell_type": "markdown",
      "source": [
        "#4 Convert the string \"hello\" to uppercase"
      ],
      "metadata": {
        "id": "vrLnlHQVVzXB"
      }
    },
    {
      "cell_type": "code",
      "source": [
        "text = \"hello\"\n",
        "print(text.upper())\n"
      ],
      "metadata": {
        "colab": {
          "base_uri": "https://localhost:8080/"
        },
        "id": "9mZrJyHHV4SF",
        "outputId": "3bb0343a-5cf1-4a28-dd81-8c26caa27568"
      },
      "execution_count": null,
      "outputs": [
        {
          "output_type": "stream",
          "name": "stdout",
          "text": [
            "HELLO\n"
          ]
        }
      ]
    },
    {
      "cell_type": "markdown",
      "source": [
        "#5 Replace the word \"apple\" with \"orange\" in the string \"I like apple\""
      ],
      "metadata": {
        "id": "FK7koV3ZVswb"
      }
    },
    {
      "cell_type": "code",
      "source": [
        "text = \"I like apple\"\n",
        "print(text.replace(\"apple\", \"orange\"))\n"
      ],
      "metadata": {
        "colab": {
          "base_uri": "https://localhost:8080/"
        },
        "id": "TFXG2D7fWMm8",
        "outputId": "aa0be269-2e43-450a-8ed2-c8bc65bf4247"
      },
      "execution_count": null,
      "outputs": [
        {
          "output_type": "stream",
          "name": "stdout",
          "text": [
            "I like orange\n"
          ]
        }
      ]
    },
    {
      "cell_type": "markdown",
      "source": [
        "#6 Create a list with numbers 1 to 5 and print it"
      ],
      "metadata": {
        "id": "wM5fya4uWZLP"
      }
    },
    {
      "cell_type": "code",
      "source": [
        "numbers = [1, 2, 3, 4, 5]\n",
        "print(numbers)\n"
      ],
      "metadata": {
        "colab": {
          "base_uri": "https://localhost:8080/"
        },
        "id": "n0sh5xV2V_0c",
        "outputId": "94225499-0732-4ecf-d18c-dc127343b6b1"
      },
      "execution_count": null,
      "outputs": [
        {
          "output_type": "stream",
          "name": "stdout",
          "text": [
            "[1, 2, 3, 4, 5]\n"
          ]
        }
      ]
    },
    {
      "cell_type": "markdown",
      "source": [
        "#7 Append the number 10 to the list [1, 2, 3, 4]"
      ],
      "metadata": {
        "id": "KZo0hM9yWiu1"
      }
    },
    {
      "cell_type": "code",
      "source": [
        "numbers = [1, 2, 3, 4]\n",
        "numbers.append(10)\n",
        "print(numbers)\n"
      ],
      "metadata": {
        "colab": {
          "base_uri": "https://localhost:8080/"
        },
        "id": "MSmRaxmNWnOj",
        "outputId": "a7bef2b4-c955-4abc-88da-8e7c1e9ac17f"
      },
      "execution_count": null,
      "outputs": [
        {
          "output_type": "stream",
          "name": "stdout",
          "text": [
            "[1, 2, 3, 4, 10]\n"
          ]
        }
      ]
    },
    {
      "cell_type": "markdown",
      "source": [
        "#8 Remove the number 3 from the list [1, 2, 3, 4, 5]"
      ],
      "metadata": {
        "id": "DiGv_QkXWrLm"
      }
    },
    {
      "cell_type": "code",
      "source": [
        "numbers = [1, 2, 3, 4, 5]\n",
        "numbers.remove(3)\n",
        "print(numbers)\n"
      ],
      "metadata": {
        "colab": {
          "base_uri": "https://localhost:8080/"
        },
        "id": "t6byr-GKWw0x",
        "outputId": "891022c6-b175-4b39-eddf-b3c094079a03"
      },
      "execution_count": null,
      "outputs": [
        {
          "output_type": "stream",
          "name": "stdout",
          "text": [
            "[1, 2, 4, 5]\n"
          ]
        }
      ]
    },
    {
      "cell_type": "markdown",
      "source": [
        "#9 Access the second element in the list ['a', 'b', 'c', 'd']\n",
        "\n"
      ],
      "metadata": {
        "id": "O3T0e38GXNFL"
      }
    },
    {
      "cell_type": "code",
      "source": [
        "letters = ['a', 'b', 'c', 'd']\n",
        "print(letters[1])\n"
      ],
      "metadata": {
        "colab": {
          "base_uri": "https://localhost:8080/"
        },
        "id": "3uXf_KtQXcJX",
        "outputId": "d96bcb4d-9c91-4005-dba6-9839a1907178"
      },
      "execution_count": null,
      "outputs": [
        {
          "output_type": "stream",
          "name": "stdout",
          "text": [
            "b\n"
          ]
        }
      ]
    },
    {
      "cell_type": "markdown",
      "source": [
        "#10 Reverse the list [10, 20, 30, 40, 50]\n",
        "\n"
      ],
      "metadata": {
        "id": "NRwGxmgWXv1u"
      }
    },
    {
      "cell_type": "code",
      "source": [
        "numbers = [10, 20, 30, 40, 50]\n",
        "numbers.reverse()\n",
        "print(numbers)\n"
      ],
      "metadata": {
        "colab": {
          "base_uri": "https://localhost:8080/"
        },
        "id": "D754C1EnX0YD",
        "outputId": "9d3a8e74-b030-4084-fc59-60ab068b814c"
      },
      "execution_count": null,
      "outputs": [
        {
          "output_type": "stream",
          "name": "stdout",
          "text": [
            "[50, 40, 30, 20, 10]\n"
          ]
        }
      ]
    },
    {
      "cell_type": "markdown",
      "source": [
        "#11 Create a tuple with the elements 100, 200, 300 and print it"
      ],
      "metadata": {
        "id": "-8S1S0IxX7nW"
      }
    },
    {
      "cell_type": "code",
      "source": [
        "tup = (100, 200, 300)\n",
        "print(tup)\n"
      ],
      "metadata": {
        "colab": {
          "base_uri": "https://localhost:8080/"
        },
        "id": "jGQGJIBoXhnc",
        "outputId": "f66e4969-5921-4570-d8f1-878a625bd4f3"
      },
      "execution_count": null,
      "outputs": [
        {
          "output_type": "stream",
          "name": "stdout",
          "text": [
            "(100, 200, 300)\n"
          ]
        }
      ]
    },
    {
      "cell_type": "markdown",
      "source": [
        "#12 Access the second-to-last element of the tuple ('red', 'green', 'blue', 'yellow')"
      ],
      "metadata": {
        "id": "gE2YqlNMYByE"
      }
    },
    {
      "cell_type": "code",
      "source": [
        "colors = ('red', 'green', 'blue', 'yellow')\n",
        "print(colors[-2])\n"
      ],
      "metadata": {
        "colab": {
          "base_uri": "https://localhost:8080/"
        },
        "id": "sNbiqigmXO1z",
        "outputId": "bdb42690-3d04-495a-fe79-1d79ce14e3ac"
      },
      "execution_count": null,
      "outputs": [
        {
          "output_type": "stream",
          "name": "stdout",
          "text": [
            "blue\n"
          ]
        }
      ]
    },
    {
      "cell_type": "markdown",
      "source": [
        "#13 Find the minimum number in the tuple (10, 20, 5, 15)"
      ],
      "metadata": {
        "id": "iWFOM-nPYcaE"
      }
    },
    {
      "cell_type": "code",
      "source": [
        "tup = (10, 20, 5, 15)\n",
        "print(min(tup))\n"
      ],
      "metadata": {
        "colab": {
          "base_uri": "https://localhost:8080/"
        },
        "id": "wjHWpmxvX6Yv",
        "outputId": "70e30f2c-5f75-493d-c556-3fbd07a961d6"
      },
      "execution_count": null,
      "outputs": [
        {
          "output_type": "stream",
          "name": "stdout",
          "text": [
            "5\n"
          ]
        }
      ]
    },
    {
      "cell_type": "markdown",
      "source": [
        "#14 Find the index of the element \"cat\" in the tuple ('dog', 'cat', 'rabbit')"
      ],
      "metadata": {
        "id": "EIUPo1y4YnO8"
      }
    },
    {
      "cell_type": "code",
      "source": [
        "animals = ('dog', 'cat', 'rabbit')\n",
        "print(animals.index(\"cat\"))\n"
      ],
      "metadata": {
        "colab": {
          "base_uri": "https://localhost:8080/"
        },
        "id": "wS4akoUMYuR2",
        "outputId": "dc4d368d-12d8-49ea-ce03-b2bb13a6d045"
      },
      "execution_count": null,
      "outputs": [
        {
          "output_type": "stream",
          "name": "stdout",
          "text": [
            "1\n"
          ]
        }
      ]
    },
    {
      "cell_type": "markdown",
      "source": [
        "#15 Create a tuple containing three different fruits and check if \"kiwi\" is in it"
      ],
      "metadata": {
        "id": "iBVX1h20Y7b0"
      }
    },
    {
      "cell_type": "code",
      "source": [
        "fruits = ('apple', 'banana', 'mango')\n",
        "print(\"kiwi\" in fruits)\n"
      ],
      "metadata": {
        "colab": {
          "base_uri": "https://localhost:8080/"
        },
        "id": "_FAXNT6hY-ft",
        "outputId": "02c42c19-9d94-4316-819c-7bafbe0960ae"
      },
      "execution_count": null,
      "outputs": [
        {
          "output_type": "stream",
          "name": "stdout",
          "text": [
            "False\n"
          ]
        }
      ]
    },
    {
      "cell_type": "markdown",
      "source": [
        "#16 Create a set with the elements 'a', 'b', 'c' and print it"
      ],
      "metadata": {
        "id": "zhRJ-kZlZAxp"
      }
    },
    {
      "cell_type": "code",
      "source": [
        "s = {'a', 'b', 'c'}\n",
        "print(s)\n"
      ],
      "metadata": {
        "colab": {
          "base_uri": "https://localhost:8080/"
        },
        "id": "0Zx6EXNYZNsv",
        "outputId": "f9b5e43b-c540-4585-e952-d9d441252df8"
      },
      "execution_count": null,
      "outputs": [
        {
          "output_type": "stream",
          "name": "stdout",
          "text": [
            "{'b', 'a', 'c'}\n"
          ]
        }
      ]
    },
    {
      "cell_type": "markdown",
      "source": [
        "#17 Clear all elements from the set {1, 2, 3, 4, 5}"
      ],
      "metadata": {
        "id": "VEmgRUXBZgkZ"
      }
    },
    {
      "cell_type": "code",
      "source": [
        "s = {1, 2, 3, 4, 5}\n",
        "s.clear()\n",
        "print(s)\n"
      ],
      "metadata": {
        "colab": {
          "base_uri": "https://localhost:8080/"
        },
        "id": "AYoOO3YWZi4V",
        "outputId": "97000a20-1ef9-43c4-ea52-3cdc60ce4484"
      },
      "execution_count": null,
      "outputs": [
        {
          "output_type": "stream",
          "name": "stdout",
          "text": [
            "set()\n"
          ]
        }
      ]
    },
    {
      "cell_type": "markdown",
      "source": [
        "#18 Remove the element 4 from the set {1, 2, 3, 4}"
      ],
      "metadata": {
        "id": "_onjDuxOZmjy"
      }
    },
    {
      "cell_type": "code",
      "source": [
        "s = {1, 2, 3, 4}\n",
        "s.remove(4)\n",
        "print(s)\n"
      ],
      "metadata": {
        "colab": {
          "base_uri": "https://localhost:8080/"
        },
        "id": "XH0dAyYyZr4R",
        "outputId": "8e2a57db-868c-4264-cfa7-7ab8994412ef"
      },
      "execution_count": null,
      "outputs": [
        {
          "output_type": "stream",
          "name": "stdout",
          "text": [
            "{1, 2, 3}\n"
          ]
        }
      ]
    },
    {
      "cell_type": "markdown",
      "source": [],
      "metadata": {
        "id": "jvzECGZVckPL"
      }
    },
    {
      "cell_type": "markdown",
      "source": [
        "#19 Find the union of two sets {1, 2, 3} and {3, 4, 5}"
      ],
      "metadata": {
        "id": "uGXmWQ3FZ8EB"
      }
    },
    {
      "cell_type": "code",
      "source": [
        "set1 = {1, 2, 3}\n",
        "set2 = {3, 4, 5}\n",
        "print(set1.union(set2))\n"
      ],
      "metadata": {
        "colab": {
          "base_uri": "https://localhost:8080/"
        },
        "id": "kAYspK5xZ_6n",
        "outputId": "f22e0bc6-fe0b-4885-ebd3-be09384c6a83"
      },
      "execution_count": null,
      "outputs": [
        {
          "output_type": "stream",
          "name": "stdout",
          "text": [
            "{1, 2, 3, 4, 5}\n"
          ]
        }
      ]
    },
    {
      "cell_type": "markdown",
      "source": [
        "#20 Find the intersection of two sets {1, 2, 3} and {2, 3, 4}"
      ],
      "metadata": {
        "id": "jwdVIQTaaHj1"
      }
    },
    {
      "cell_type": "code",
      "source": [
        "set1 = {1, 2, 3}\n",
        "set2 = {2, 3, 4}\n",
        "print(set1.intersection(set2))\n"
      ],
      "metadata": {
        "colab": {
          "base_uri": "https://localhost:8080/"
        },
        "id": "zXb_pKKKaL67",
        "outputId": "95f34c82-aa88-480f-b5b0-95647645f588"
      },
      "execution_count": null,
      "outputs": [
        {
          "output_type": "stream",
          "name": "stdout",
          "text": [
            "{2, 3}\n"
          ]
        }
      ]
    },
    {
      "cell_type": "markdown",
      "source": [
        "#21 Create a dictionary with the keys \"name\", \"age\", and \"city\", and print it"
      ],
      "metadata": {
        "id": "1UkOHnVWafQk"
      }
    },
    {
      "cell_type": "code",
      "source": [
        "person = {\"name\": \"John\", \"age\": 25, \"city\": \"New York\"}\n",
        "print(person)\n"
      ],
      "metadata": {
        "colab": {
          "base_uri": "https://localhost:8080/"
        },
        "id": "vyViR7WrahaC",
        "outputId": "df0e6dd0-008f-495f-96d7-20a360945a29"
      },
      "execution_count": null,
      "outputs": [
        {
          "output_type": "stream",
          "name": "stdout",
          "text": [
            "{'name': 'John', 'age': 25, 'city': 'New York'}\n"
          ]
        }
      ]
    },
    {
      "cell_type": "markdown",
      "source": [
        "\n",
        "#22 Add a new key-value pair \"country\": \"USA\" to the dictionary {'name': 'John', 'age': 25}\n",
        "\n"
      ],
      "metadata": {
        "id": "JkItxAdIamHz"
      }
    },
    {
      "cell_type": "code",
      "source": [
        "person = {'name': 'John', 'age': 25}\n",
        "person['country'] = \"USA\"\n",
        "print(person)\n"
      ],
      "metadata": {
        "colab": {
          "base_uri": "https://localhost:8080/"
        },
        "id": "kE03t-nKaxLF",
        "outputId": "d204815d-6e85-4490-b35d-3969281c018a"
      },
      "execution_count": null,
      "outputs": [
        {
          "output_type": "stream",
          "name": "stdout",
          "text": [
            "{'name': 'John', 'age': 25, 'country': 'USA'}\n"
          ]
        }
      ]
    },
    {
      "cell_type": "markdown",
      "source": [
        "#23 Access the value associated with the key \"name\" in the dictionary {'name': 'Alice', 'age': 30}\n"
      ],
      "metadata": {
        "id": "oH2x8XI9a1a4"
      }
    },
    {
      "cell_type": "code",
      "source": [
        "person = {'name': 'Alice', 'age': 30}\n",
        "print(person['name'])\n"
      ],
      "metadata": {
        "colab": {
          "base_uri": "https://localhost:8080/"
        },
        "id": "-Rn6l1Mka9dq",
        "outputId": "25d3da2c-fbd0-4ad5-8375-760f7c7978f5"
      },
      "execution_count": null,
      "outputs": [
        {
          "output_type": "stream",
          "name": "stdout",
          "text": [
            "Alice\n"
          ]
        }
      ]
    },
    {
      "cell_type": "markdown",
      "source": [
        "#24 Remove the key \"age\" from the dictionary {'name': 'Bob', 'age': 22, 'city': 'New York'}"
      ],
      "metadata": {
        "id": "vahZI41zbAmD"
      }
    },
    {
      "cell_type": "code",
      "source": [
        "person = {'name': 'Bob', 'age': 22, 'city': 'New York'}\n",
        "person.pop('age')\n",
        "print(person)\n"
      ],
      "metadata": {
        "colab": {
          "base_uri": "https://localhost:8080/"
        },
        "id": "tsTUo_YTbIo-",
        "outputId": "7e2625cb-521b-4d4d-8022-fb33e1373f1e"
      },
      "execution_count": null,
      "outputs": [
        {
          "output_type": "stream",
          "name": "stdout",
          "text": [
            "{'name': 'Bob', 'city': 'New York'}\n"
          ]
        }
      ]
    },
    {
      "cell_type": "markdown",
      "source": [
        "#25 Check if the key \"city\" exists in the dictionary {'name': 'Alice', 'city': 'Paris'}\n",
        "\n"
      ],
      "metadata": {
        "id": "_ultVbh5bOCo"
      }
    },
    {
      "cell_type": "code",
      "source": [
        "person = {'name': 'Alice', 'city': 'Paris'}\n",
        "print(\"city\" in person)\n"
      ],
      "metadata": {
        "colab": {
          "base_uri": "https://localhost:8080/"
        },
        "id": "0w63eRnNbVD_",
        "outputId": "1553a446-10e8-422d-9c93-fbdca98dea1d"
      },
      "execution_count": null,
      "outputs": [
        {
          "output_type": "stream",
          "name": "stdout",
          "text": [
            "True\n"
          ]
        }
      ]
    },
    {
      "cell_type": "markdown",
      "source": [
        "#26 Create a list, a tuple, and a dictionary, and print them all"
      ],
      "metadata": {
        "id": "_V21K-UEbaAV"
      }
    },
    {
      "cell_type": "code",
      "source": [
        "my_list = [1, 2, 3]\n",
        "my_tuple = (4, 5, 6)\n",
        "my_dict = {\"a\": 1, \"b\": 2}\n",
        "print(my_list, my_tuple, my_dict)\n"
      ],
      "metadata": {
        "colab": {
          "base_uri": "https://localhost:8080/"
        },
        "id": "EJvmufEIbeDN",
        "outputId": "d7a08c6e-5843-4b63-ad81-3633bb06cbeb"
      },
      "execution_count": null,
      "outputs": [
        {
          "output_type": "stream",
          "name": "stdout",
          "text": [
            "[1, 2, 3] (4, 5, 6) {'a': 1, 'b': 2}\n"
          ]
        }
      ]
    },
    {
      "cell_type": "markdown",
      "source": [
        "#27 Create a list of 5 random numbers between 1 and 100, sort it in ascending order, and print the result"
      ],
      "metadata": {
        "id": "ApgiDoZrbiTc"
      }
    },
    {
      "cell_type": "code",
      "source": [
        "import random\n",
        "numbers = [random.randint(1, 100) for _ in range(5)]\n",
        "numbers.sort()\n",
        "print(numbers)\n"
      ],
      "metadata": {
        "colab": {
          "base_uri": "https://localhost:8080/"
        },
        "id": "H5OqIGCpbm-B",
        "outputId": "599f9bf8-2ea6-4941-ef7e-b5c7b565dd7b"
      },
      "execution_count": null,
      "outputs": [
        {
          "output_type": "stream",
          "name": "stdout",
          "text": [
            "[8, 10, 10, 47, 60]\n"
          ]
        }
      ]
    },
    {
      "cell_type": "markdown",
      "source": [
        "#28 Create a list with strings and print the element at the third index."
      ],
      "metadata": {
        "id": "jZG2ptgQbqBy"
      }
    },
    {
      "cell_type": "code",
      "source": [
        "strings = [\"apple\", \"banana\", \"cherry\", \"date\", \"fig\"]\n",
        "print(strings[3])\n"
      ],
      "metadata": {
        "colab": {
          "base_uri": "https://localhost:8080/"
        },
        "id": "wnJ-CnfRbwWO",
        "outputId": "b473acf0-1bcd-4c31-e814-c8b19dcbe309"
      },
      "execution_count": null,
      "outputs": [
        {
          "output_type": "stream",
          "name": "stdout",
          "text": [
            "date\n"
          ]
        }
      ]
    },
    {
      "cell_type": "markdown",
      "source": [
        "#29 Combine two dictionaries into one and print the result"
      ],
      "metadata": {
        "id": "j8pknhLgcFyq"
      }
    },
    {
      "cell_type": "code",
      "source": [
        "dict1 = {'a': 1, 'b': 2}\n",
        "dict2 = {'c': 3, 'd': 4}\n",
        "combined = {**dict1, **dict2}\n",
        "print(combined)\n"
      ],
      "metadata": {
        "colab": {
          "base_uri": "https://localhost:8080/"
        },
        "id": "K9vfUf3ZcIYy",
        "outputId": "c5a683c4-0196-4bf7-f118-02fde350f37b"
      },
      "execution_count": null,
      "outputs": [
        {
          "output_type": "stream",
          "name": "stdout",
          "text": [
            "{'a': 1, 'b': 2, 'c': 3, 'd': 4}\n"
          ]
        }
      ]
    },
    {
      "cell_type": "markdown",
      "source": [
        "#30 Convert a list of strings into a set\n",
        "**bold text**\n"
      ],
      "metadata": {
        "id": "82cGASp5cNoG"
      }
    },
    {
      "cell_type": "code",
      "source": [
        "strings = [\"apple\", \"banana\", \"cherry\", \"apple\"]\n",
        "string_set = set(strings)\n",
        "print(string_set)\n"
      ],
      "metadata": {
        "colab": {
          "base_uri": "https://localhost:8080/"
        },
        "id": "kz27hk4WcQWT",
        "outputId": "8126810f-02c9-4e75-cc15-e539507b0087"
      },
      "execution_count": null,
      "outputs": [
        {
          "output_type": "stream",
          "name": "stdout",
          "text": [
            "{'banana', 'cherry', 'apple'}\n"
          ]
        }
      ]
    },
    {
      "cell_type": "markdown",
      "source": [],
      "metadata": {
        "id": "L-dNB32ydUs1"
      }
    },
    {
      "cell_type": "markdown",
      "source": [
        "#THEORY QUESTIONS\n"
      ],
      "metadata": {
        "id": "OAsleFWEdUp7"
      }
    },
    {
      "cell_type": "markdown",
      "source": [
        "#1. What are data structures, and why are they important?\n",
        "Data structures are ways of organizing and storing data to perform operations efficiently. They are important because:\n",
        "\n",
        "They allow efficient data retrieval, insertion, and manipulation.\n",
        "\n",
        "Different problems require different structures (e.g., arrays, linked lists, trees).\n",
        "\n",
        "They optimize memory usage and performance in applications like databases, operating systems, etc.\n",
        "\n"
      ],
      "metadata": {
        "id": "n9NHjvN-dUiC"
      }
    },
    {
      "cell_type": "markdown",
      "source": [
        "#2. Difference between mutable and immutable data types with examples\n",
        "Mutable: Can be changed after creation.\n",
        "Example: Lists, Dictionaries, Sets."
      ],
      "metadata": {
        "id": "6pc_7eeTdZri"
      }
    },
    {
      "cell_type": "code",
      "source": [
        "lst = [1, 2]\n",
        "lst.append(3)  # Changes original list\n"
      ],
      "metadata": {
        "id": "6PB_jb1Ndfws"
      },
      "execution_count": 37,
      "outputs": []
    },
    {
      "cell_type": "markdown",
      "source": [
        "Immutable: Cannot be changed after creation.\n",
        "Example: Strings, Tuples."
      ],
      "metadata": {
        "id": "cf_-uMQxdvYS"
      }
    },
    {
      "cell_type": "code",
      "source": [
        "s = \"hello\"\n",
        "# s[0] = 'H'  # Error: Strings are immutable\n",
        "\n",
        "\n"
      ],
      "metadata": {
        "id": "2nt4kWzedzHy"
      },
      "execution_count": 38,
      "outputs": []
    },
    {
      "cell_type": "markdown",
      "source": [
        "#3. Main differences between lists and tuples in Python\n",
        "Lists are mutable; tuples are immutable.\n",
        "\n",
        "Lists use [], tuples use ().\n",
        "\n",
        "Lists are slower compared to tuples (tuples are faster due to immutability).\n",
        "\n",
        "Tuples are suitable for fixed data; lists for dynamic data."
      ],
      "metadata": {
        "id": "h6SKMc5WeGZC"
      }
    },
    {
      "cell_type": "markdown",
      "source": [
        "#4. Describe how dictionaries store data\n",
        "Dictionaries store data in key-value pairs using a hashing mechanism:\n",
        "\n",
        "Keys are hashed to compute an index.\n",
        "\n",
        "Values are retrieved using keys, not indexes.\n",
        "\n",
        "Example:"
      ],
      "metadata": {
        "id": "TRjWuvFUeOTi"
      }
    },
    {
      "cell_type": "code",
      "source": [
        "person = {\"name\": \"Alice\", \"age\": 25}\n"
      ],
      "metadata": {
        "id": "1MCZ4g5ieUj2"
      },
      "execution_count": null,
      "outputs": []
    },
    {
      "cell_type": "markdown",
      "source": [
        "#5. Why might you use a set instead of a list in Python?\n",
        "Sets automatically remove duplicates.\n",
        "\n",
        "They allow fast membership testing (in operation).\n",
        "\n",
        "Useful for mathematical operations (union, intersection).\n",
        "\n"
      ],
      "metadata": {
        "id": "F4BzJrdpeTgK"
      }
    },
    {
      "cell_type": "markdown",
      "source": [
        "#6. What is a string in Python, and how is it different from a list?\n",
        "A string is a sequence of characters enclosed in quotes.\n",
        "\n",
        "A list is a collection of elements (any type).\n",
        "\n",
        "Strings are immutable; lists are mutable.\n",
        "\n",
        "Example: \"hello\" vs ['h', 'e', 'l', 'l', 'o']"
      ],
      "metadata": {
        "id": "ftr3cXKdecWz"
      }
    },
    {
      "cell_type": "markdown",
      "source": [
        "#7. How do tuples ensure data integrity in Python?\n",
        "Tuples are immutable, preventing accidental modifications.\n",
        "\n",
        "Useful for constant data like coordinates (x, y) or database records.\n",
        "\n"
      ],
      "metadata": {
        "id": "j04ElQznehr2"
      }
    },
    {
      "cell_type": "markdown",
      "source": [
        "#8. What is a hash table, and how does it relate to dictionaries in Python?\n",
        "A hash table stores key-value pairs using hashing.\n",
        "\n",
        "Python dictionaries use hash tables internally to map keys to values efficiently.\n",
        "\n"
      ],
      "metadata": {
        "id": "1cHRuWE-ev3Y"
      }
    },
    {
      "cell_type": "markdown",
      "source": [
        "#9.Can lists contain different data types in Python?\n",
        "Yes.Python lists are heterogeneous:"
      ],
      "metadata": {
        "id": "sqgvBHHFe1K1"
      }
    },
    {
      "cell_type": "code",
      "source": [
        "mixed = [1, \"text\", 3.5, True]\n"
      ],
      "metadata": {
        "id": "f-qPm87Ie-M8"
      },
      "execution_count": null,
      "outputs": []
    },
    {
      "cell_type": "markdown",
      "source": [
        "#10. Explain why strings are immutable in Python\n",
        "Immutability improves performance and memory usage (strings can be reused).\n",
        "\n",
        "It ensures security when strings are used as keys in dictionaries.\n",
        "\n"
      ],
      "metadata": {
        "id": "IkbfVHGrfAUY"
      }
    },
    {
      "cell_type": "markdown",
      "source": [
        "#11. Advantages of dictionaries over lists for certain tasks\n",
        "Fast lookup using keys instead of searching through a list.\n",
        "\n",
        "Data is stored as key-value pairs (more descriptive).\n",
        "\n",
        "Useful when data requires unique identifiers.\n",
        "\n"
      ],
      "metadata": {
        "id": "9ItVyL8FfHzH"
      }
    },
    {
      "cell_type": "markdown",
      "source": [
        "#12. Scenario where using a tuple is preferable over a list\n",
        "When data should not change, like coordinates (lat, long) or fixed configuration.\n",
        "\n",
        "Tuples can be used as dictionary keys, lists cannot."
      ],
      "metadata": {
        "id": "eI31FTVufL-Y"
      }
    },
    {
      "cell_type": "markdown",
      "source": [
        "#13.How do sets handle duplicate values in Python?\n",
        "Sets automatically remove duplicates when elements are added."
      ],
      "metadata": {
        "id": "uz5IsQOTfPWR"
      }
    },
    {
      "cell_type": "code",
      "source": [
        "s = {1, 2, 2, 3}\n",
        "print(s)  # Output: {1, 2, 3}\n"
      ],
      "metadata": {
        "id": "NRNdDr7IfTK_"
      },
      "execution_count": null,
      "outputs": []
    },
    {
      "cell_type": "markdown",
      "source": [
        "#14. How does the “in” keyword work differently for lists and dictionaries?\n",
        "For lists: checks for presence of an element in values.\n",
        "\n",
        "For dictionaries: checks for presence of a key (not value)."
      ],
      "metadata": {
        "id": "ELZ3drsPfVG5"
      }
    },
    {
      "cell_type": "markdown",
      "source": [
        "#15. Can you modify the elements of a tuple? Explain why or why not\n",
        "No, tuples are immutable.\n",
        "\n",
        "Once created, their contents cannot be changed, added, or removed.\n",
        "\n"
      ],
      "metadata": {
        "id": "aP9AyK4OfZIm"
      }
    },
    {
      "cell_type": "markdown",
      "source": [
        "#16. What is a nested dictionary, and give an example of its use case\n",
        "A dictionary inside another dictionary.\n",
        "\n",
        "Useful for hierarchical data like JSON:"
      ],
      "metadata": {
        "id": "SItRt6YBfwuz"
      }
    },
    {
      "cell_type": "code",
      "source": [
        "student = {\n",
        "  \"name\": \"Alice\",\n",
        "  \"grades\": {\"math\": 90, \"science\": 85}\n",
        "}\n"
      ],
      "metadata": {
        "id": "XpybBjaPfFGx"
      },
      "execution_count": null,
      "outputs": []
    },
    {
      "cell_type": "markdown",
      "source": [
        "#17. Describe the time complexity of accessing elements in a dictionary\n",
        "Average case: O(1) (constant time) due to hashing.\n",
        "\n",
        "Worst case: O(n) if many collisions occur.\n",
        "\n"
      ],
      "metadata": {
        "id": "x7oUNi14f1gN"
      }
    },
    {
      "cell_type": "markdown",
      "source": [
        "#18. In what situations are lists preferred over dictionaries?\n",
        "When order matters.\n",
        "\n",
        "When data is accessed by index, not by keys.\n",
        "\n",
        "When duplicates are allowed.\n",
        "\n"
      ],
      "metadata": {
        "id": "KmLNrDOFf7U9"
      }
    },
    {
      "cell_type": "markdown",
      "source": [
        "#19. Why are dictionaries considered unordered, and how does that affect data retrieval?\n",
        "Before Python 3.7, dictionaries didn’t maintain insertion order.\n",
        "\n",
        "Even now, order is maintained but should not be relied upon for algorithm logic.\n",
        "\n",
        "Retrieval is based on keys, not position."
      ],
      "metadata": {
        "id": "4_qekAm9f9Ph"
      }
    },
    {
      "cell_type": "markdown",
      "source": [
        "#20. Difference between a list and a dictionary in terms of data retrieval\n",
        "Lists: Retrieve data by index (e.g., list[0]).\n",
        "\n",
        "Dictionaries: Retrieve data by key (e.g., dict['name']).\n",
        "\n"
      ],
      "metadata": {
        "id": "U6nLtYjDgDb5"
      }
    },
    {
      "cell_type": "code",
      "source": [],
      "metadata": {
        "id": "bWkBYIoDgHsF"
      },
      "execution_count": null,
      "outputs": []
    }
  ]
}