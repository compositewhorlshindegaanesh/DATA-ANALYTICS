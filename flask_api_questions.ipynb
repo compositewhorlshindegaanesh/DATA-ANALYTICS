{
 "cells": [
  {
   "cell_type": "markdown",
   "id": "ae0caa07",
   "metadata": {},
   "source": [
    "# Flask API: Complete Theory and Practical Questions"
   ]
  },
  {
   "cell_type": "markdown",
   "id": "aa6ce42c",
   "metadata": {},
   "source": [
    "## Section 1: Theoretical Questions"
   ]
  },
  {
   "cell_type": "markdown",
   "id": "3a11c382",
   "metadata": {},
   "source": [
    "#1. What is a RESTful API?"
   ]
  },
  {
   "cell_type": "markdown",
   "id": "e59bab11",
   "metadata": {},
   "source": [
    "A RESTful API (Representational State Transfer API) is an architectural style for building web services using standard HTTP methods like GET, POST, PUT, and DELETE. It operates on resources identified by URLs and commonly exchanges data in JSON format."
   ]
  },
  {
   "cell_type": "markdown",
   "id": "a792bdc8",
   "metadata": {},
   "source": [
    "#2. Explain the concept of API specification"
   ]
  },
  {
   "cell_type": "markdown",
   "id": "47a0ee71",
   "metadata": {},
   "source": [
    "An API specification is a detailed document that defines how an API works, including its endpoints, request and response formats, authentication, and error handling. Examples include OpenAPI (Swagger). It serves as a contract between API providers and consumers."
   ]
  },
  {
   "cell_type": "markdown",
   "id": "de8a8df5",
   "metadata": {},
   "source": [
    "#3. What is Flask, and why is it popular for building APIs?"
   ]
  },
  {
   "cell_type": "markdown",
   "id": "dffec61a",
   "metadata": {},
   "source": [
    "Flask is a lightweight Python web framework used to build web applications and APIs. It is popular due to its simplicity, flexibility, and the availability of many extensions like Flask-RESTful and Flask-SQLAlchemy."
   ]
  },
  {
   "cell_type": "markdown",
   "id": "9ff17503",
   "metadata": {},
   "source": [
    "#4. What is routing in Flask?"
   ]
  },
  {
   "cell_type": "markdown",
   "id": "98e0b651",
   "metadata": {},
   "source": [
    "Routing in Flask refers to mapping a URL to a specific function (view function) that handles the request. Routes are defined using decorators like @app.route()."
   ]
  },
  {
   "cell_type": "markdown",
   "id": "98a2b828",
   "metadata": {},
   "source": [
    "#5. How do you create a simple Flask application?"
   ]
  },
  {
   "cell_type": "markdown",
   "id": "47c14038",
   "metadata": {},
   "source": [
    "A simple Flask application involves importing Flask, creating an app instance, defining routes, and running the app using app.run()."
   ]
  },
  {
   "cell_type": "markdown",
   "id": "a94b9f3a",
   "metadata": {},
   "source": [
    "#6. What are HTTP methods used in RESTful APIs?"
   ]
  },
  {
   "cell_type": "markdown",
   "id": "3138fb3c",
   "metadata": {},
   "source": [
    "The main HTTP methods are:\n",
    "- GET: Retrieve data\n",
    "- POST: Create data\n",
    "- PUT: Update data\n",
    "- PATCH: Partially update data\n",
    "- DELETE: Delete data"
   ]
  },
  {
   "cell_type": "markdown",
   "id": "05272d03",
   "metadata": {},
   "source": [
    "#7. What is the purpose of the @app.route() decorator in Flask?"
   ]
  },
  {
   "cell_type": "markdown",
   "id": "fae9bbc1",
   "metadata": {},
   "source": [
    "The @app.route() decorator is used to map a URL endpoint to a Python function so that when the URL is accessed, the function executes."
   ]
  },
  {
   "cell_type": "markdown",
   "id": "3abe36ae",
   "metadata": {},
   "source": [
    "#8. What is the difference between GET and POST HTTP methods?"
   ]
  },
  {
   "cell_type": "markdown",
   "id": "bf837ad1",
   "metadata": {},
   "source": [
    "GET is used to retrieve data and does not change server state, while POST is used to send data to the server to create or update resources."
   ]
  },
  {
   "cell_type": "markdown",
   "id": "8f0c4c9d",
   "metadata": {},
   "source": [
    "#9. How do you handle errors in Flask APIs?"
   ]
  },
  {
   "cell_type": "markdown",
   "id": "f664f379",
   "metadata": {},
   "source": [
    "Flask provides error handlers using the @app.errorhandler decorator. You can define custom error pages for errors like 404 or 500."
   ]
  },
  {
   "cell_type": "markdown",
   "id": "a77aaa45",
   "metadata": {},
   "source": [
    "#10. How do you connect Flask to a SQL database?"
   ]
  },
  {
   "cell_type": "markdown",
   "id": "a279323c",
   "metadata": {},
   "source": [
    "You can use Flask-SQLAlchemy to connect Flask to SQL databases. It provides an ORM for easy database operations."
   ]
  },
  {
   "cell_type": "markdown",
   "id": "bb2b0a5f",
   "metadata": {},
   "source": [
    "#11. What is the role of Flask-SQLAlchemy?"
   ]
  },
  {
   "cell_type": "markdown",
   "id": "567c5547",
   "metadata": {},
   "source": [
    "Flask-SQLAlchemy is an extension that provides integration with SQLAlchemy for database management in Flask applications."
   ]
  },
  {
   "cell_type": "markdown",
   "id": "1df01aab",
   "metadata": {},
   "source": [
    "#12. What are Flask blueprints, and how are they useful?"
   ]
  },
  {
   "cell_type": "markdown",
   "id": "da3484e4",
   "metadata": {},
   "source": [
    "Blueprints allow you to structure large Flask applications into smaller, modular components for better organization and reusability."
   ]
  },
  {
   "cell_type": "markdown",
   "id": "9c721f2c",
   "metadata": {},
   "source": [
    "#13. What is the purpose of Flask's request object?"
   ]
  },
  {
   "cell_type": "markdown",
   "id": "50babc49",
   "metadata": {},
   "source": [
    "The request object in Flask provides access to HTTP request data, including form data, JSON, headers, and query parameters."
   ]
  },
  {
   "cell_type": "markdown",
   "id": "106aabde",
   "metadata": {},
   "source": [
    "#14. How do you create a RESTful API endpoint using Flask?"
   ]
  },
  {
   "cell_type": "markdown",
   "id": "9759c4b7",
   "metadata": {},
   "source": [
    "You define routes for HTTP methods (GET, POST, etc.) in Flask and return JSON responses using jsonify()."
   ]
  },
  {
   "cell_type": "markdown",
   "id": "9ae98ddd",
   "metadata": {},
   "source": [
    "#15. What is the purpose of Flask's jsonify() function?"
   ]
  },
  {
   "cell_type": "markdown",
   "id": "9a169a1c",
   "metadata": {},
   "source": [
    "The jsonify() function converts Python dictionaries into JSON responses with the correct MIME type (application/json)."
   ]
  },
  {
   "cell_type": "markdown",
   "id": "b36ef110",
   "metadata": {},
   "source": [
    "#16. Explain Flask’s url_for() function"
   ]
  },
  {
   "cell_type": "markdown",
   "id": "d51b7a40",
   "metadata": {},
   "source": [
    "The url_for() function is used to dynamically generate URLs for routes by using the route's function name instead of hardcoding the URL."
   ]
  },
  {
   "cell_type": "markdown",
   "id": "21e03fe2",
   "metadata": {},
   "source": [
    "#17. How does Flask handle static files (CSS, JavaScript, etc.)?"
   ]
  },
  {
   "cell_type": "markdown",
   "id": "46f101f7",
   "metadata": {},
   "source": [
    "Flask serves static files from the 'static' directory by default. You can access them using the '/static/' URL path."
   ]
  },
  {
   "cell_type": "markdown",
   "id": "2636c7f0",
   "metadata": {},
   "source": [
    "#18. What is an API specification, and how does it help in building a Flask API?"
   ]
  },
  {
   "cell_type": "markdown",
   "id": "3a14e40a",
   "metadata": {},
   "source": [
    "An API specification defines endpoints, request methods, and response formats, ensuring consistency and clear communication between teams."
   ]
  },
  {
   "cell_type": "markdown",
   "id": "377e2201",
   "metadata": {},
   "source": [
    "#19. What are HTTP status codes, and why are they important in a Flask API?"
   ]
  },
  {
   "cell_type": "markdown",
   "id": "2ca5dd01",
   "metadata": {},
   "source": [
    "HTTP status codes indicate the result of an HTTP request. For example, 200 means success, 404 means not found, and 500 means server error."
   ]
  },
  {
   "cell_type": "markdown",
   "id": "383e4e68",
   "metadata": {},
   "source": [
    "#20. How do you handle POST requests in Flask?"
   ]
  },
  {
   "cell_type": "markdown",
   "id": "7250a085",
   "metadata": {},
   "source": [
    "You define a route with methods=['POST'] and use request.form or request.json to access the incoming data."
   ]
  },
  {
   "cell_type": "markdown",
   "id": "37df3ad8",
   "metadata": {},
   "source": [
    "#21. How would you secure a Flask API?"
   ]
  },
  {
   "cell_type": "markdown",
   "id": "841ca3b5",
   "metadata": {},
   "source": [
    "Flask API security can be implemented using HTTPS, authentication (JWT, OAuth), input validation, and rate limiting."
   ]
  },
  {
   "cell_type": "markdown",
   "id": "3f351df0",
   "metadata": {},
   "source": [
    "#22. What is the significance of the Flask-RESTful extension?"
   ]
  },
  {
   "cell_type": "markdown",
   "id": "d78007b0",
   "metadata": {},
   "source": [
    "Flask-RESTful simplifies building REST APIs by providing resource-based routing and helpful features like request parsing."
   ]
  },
  {
   "cell_type": "markdown",
   "id": "c788dca7",
   "metadata": {},
   "source": [
    "#23. What is the role of Flask’s session object?"
   ]
  },
  {
   "cell_type": "markdown",
   "id": "3b1116af",
   "metadata": {},
   "source": [
    "The session object is used to store data across requests for a user. It uses cookies and can be secured with a secret key."
   ]
  },
  {
   "cell_type": "markdown",
   "id": "cad8b1a9",
   "metadata": {},
   "source": [
    "## Section 2: Practical Questions"
   ]
  },
  {
   "cell_type": "markdown",
   "id": "6e4fd1ff",
   "metadata": {},
   "source": [
    "#1. How do you create a basic Flask application?"
   ]
  },
  {
   "cell_type": "code",
   "execution_count": null,
   "id": "6a100d02",
   "metadata": {},
   "outputs": [],
   "source": [
    "from flask import Flask\n",
    "app = Flask(__name__)\n",
    "\n",
    "@app.route(\"/\")\n",
    "def home():\n",
    "    return \"Hello, Flask!\"\n",
    "\n",
    "if __name__ == \"__main__\":\n",
    "    app.run(debug=True)"
   ]
  },
  {
   "cell_type": "markdown",
   "id": "13262830",
   "metadata": {},
   "source": [
    "#2. How do you serve static files like images or CSS in Flask?"
   ]
  },
  {
   "cell_type": "code",
   "execution_count": null,
   "id": "6185f0ea",
   "metadata": {},
   "outputs": [],
   "source": [
    "# Place files in a folder named 'static'\n",
    "# Example: <img src=\"/static/image.png\">"
   ]
  },
  {
   "cell_type": "markdown",
   "id": "027128a4",
   "metadata": {},
   "source": [
    "#3. How do you define different routes with different HTTP methods in Flask?"
   ]
  },
  {
   "cell_type": "code",
   "execution_count": null,
   "id": "dae55e82",
   "metadata": {},
   "outputs": [],
   "source": [
    "from flask import Flask, request\n",
    "app = Flask(__name__)\n",
    "\n",
    "@app.route(\"/data\", methods=[\"GET\", \"POST\"])\n",
    "def data():\n",
    "    if request.method == \"GET\":\n",
    "        return \"GET Request\"\n",
    "    else:\n",
    "        return \"POST Request\""
   ]
  },
  {
   "cell_type": "markdown",
   "id": "58327398",
   "metadata": {},
   "source": [
    "#4. How do you render HTML templates in Flask?"
   ]
  },
  {
   "cell_type": "code",
   "execution_count": null,
   "id": "46ace91b",
   "metadata": {},
   "outputs": [],
   "source": [
    "from flask import Flask, render_template\n",
    "app = Flask(__name__)\n",
    "\n",
    "@app.route(\"/\")\n",
    "def index():\n",
    "    return render_template(\"index.html\")"
   ]
  },
  {
   "cell_type": "markdown",
   "id": "fe369bd5",
   "metadata": {},
   "source": [
    "#5. How can you generate URLs for routes in Flask using url_for?"
   ]
  },
  {
   "cell_type": "code",
   "execution_count": null,
   "id": "55c7abcf",
   "metadata": {},
   "outputs": [],
   "source": [
    "from flask import Flask, url_for\n",
    "app = Flask(__name__)\n",
    "\n",
    "@app.route(\"/\")\n",
    "def home():\n",
    "    return \"Home\"\n",
    "\n",
    "with app.test_request_context():\n",
    "    print(url_for(\"home\"))"
   ]
  },
  {
   "cell_type": "markdown",
   "id": "0d4fc0d2",
   "metadata": {},
   "source": [
    "#6. How do you handle forms in Flask?"
   ]
  },
  {
   "cell_type": "code",
   "execution_count": null,
   "id": "bea5eb64",
   "metadata": {},
   "outputs": [],
   "source": [
    "from flask import Flask, request\n",
    "app = Flask(__name__)\n",
    "\n",
    "@app.route(\"/submit\", methods=[\"POST\"])\n",
    "def submit():\n",
    "    name = request.form[\"name\"]\n",
    "    return f\"Hello {name}\""
   ]
  },
  {
   "cell_type": "markdown",
   "id": "411efa3f",
   "metadata": {},
   "source": [
    "#7. How can you validate form data in Flask?"
   ]
  },
  {
   "cell_type": "code",
   "execution_count": null,
   "id": "3d9ca2bf",
   "metadata": {},
   "outputs": [],
   "source": [
    "# Use WTForms extension for form validation\n",
    "from flask_wtf import FlaskForm\n",
    "from wtforms import StringField\n",
    "from wtforms.validators import DataRequired"
   ]
  },
  {
   "cell_type": "markdown",
   "id": "8fab353a",
   "metadata": {},
   "source": [
    "#8. How do you manage sessions in Flask?"
   ]
  },
  {
   "cell_type": "code",
   "execution_count": null,
   "id": "10f65591",
   "metadata": {},
   "outputs": [],
   "source": [
    "from flask import Flask, session\n",
    "app = Flask(__name__)\n",
    "app.secret_key = \"secret\"\n",
    "\n",
    "@app.route(\"/\")\n",
    "def index():\n",
    "    session[\"username\"] = \"admin\"\n",
    "    return \"Session Set\""
   ]
  },
  {
   "cell_type": "markdown",
   "id": "d384e7e0",
   "metadata": {},
   "source": [
    "#9. How do you redirect to a different route in Flask?"
   ]
  },
  {
   "cell_type": "code",
   "execution_count": null,
   "id": "3442bd46",
   "metadata": {},
   "outputs": [],
   "source": [
    "from flask import Flask, redirect, url_for\n",
    "app = Flask(__name__)\n",
    "\n",
    "@app.route(\"/home\")\n",
    "def home():\n",
    "    return \"Home Page\"\n",
    "\n",
    "@app.route(\"/go\")\n",
    "def go():\n",
    "    return redirect(url_for(\"home\"))"
   ]
  },
  {
   "cell_type": "markdown",
   "id": "5b921c8f",
   "metadata": {},
   "source": [
    "#10. How do you handle errors in Flask (e.g., 404)?"
   ]
  },
  {
   "cell_type": "code",
   "execution_count": null,
   "id": "274bdabf",
   "metadata": {},
   "outputs": [],
   "source": [
    "from flask import Flask\n",
    "app = Flask(__name__)\n",
    "\n",
    "@app.errorhandler(404)\n",
    "def page_not_found(e):\n",
    "    return \"Page not found\", 404"
   ]
  },
  {
   "cell_type": "markdown",
   "id": "ac620ba5",
   "metadata": {},
   "source": [
    "#11. How do you structure a Flask app using Blueprints?"
   ]
  },
  {
   "cell_type": "code",
   "execution_count": null,
   "id": "491d25a6",
   "metadata": {},
   "outputs": [],
   "source": [
    "from flask import Blueprint\n",
    "bp = Blueprint(\"main\", __name__)\n",
    "\n",
    "@bp.route(\"/\")\n",
    "def home():\n",
    "    return \"Hello from Blueprint\""
   ]
  },
  {
   "cell_type": "markdown",
   "id": "5b7b9c3b",
   "metadata": {},
   "source": [
    "#12. How do you define a custom Jinja filter in Flask?"
   ]
  },
  {
   "cell_type": "code",
   "execution_count": null,
   "id": "40c4559d",
   "metadata": {},
   "outputs": [],
   "source": [
    "from flask import Flask\n",
    "app = Flask(__name__)\n",
    "\n",
    "@app.template_filter(\"reverse\")\n",
    "def reverse_filter(s):\n",
    "    return s[::-1]"
   ]
  },
  {
   "cell_type": "markdown",
   "id": "999ef9cb",
   "metadata": {},
   "source": [
    "#13. How can you redirect with query parameters in Flask?"
   ]
  },
  {
   "cell_type": "code",
   "execution_count": null,
   "id": "0fe35df6",
   "metadata": {},
   "outputs": [],
   "source": [
    "from flask import Flask, redirect, url_for\n",
    "app = Flask(__name__)\n",
    "\n",
    "@app.route(\"/redirect\")\n",
    "def redirect_with_params():\n",
    "    return redirect(url_for(\"home\", name=\"John\"))"
   ]
  },
  {
   "cell_type": "markdown",
   "id": "2138541b",
   "metadata": {},
   "source": [
    "#14. How do you return JSON responses in Flask?"
   ]
  },
  {
   "cell_type": "code",
   "execution_count": null,
   "id": "8ab0f7b6",
   "metadata": {},
   "outputs": [],
   "source": [
    "from flask import Flask, jsonify\n",
    "app = Flask(__name__)\n",
    "\n",
    "@app.route(\"/json\")\n",
    "def json_data():\n",
    "    return jsonify({\"message\": \"Hello, JSON\"})"
   ]
  },
  {
   "cell_type": "markdown",
   "id": "db993a2a",
   "metadata": {},
   "source": [
    "#15. How do you capture URL parameters in Flask?"
   ]
  },
  {
   "cell_type": "code",
   "execution_count": null,
   "id": "5f38ab01",
   "metadata": {},
   "outputs": [],
   "source": [
    "from flask import Flask\n",
    "app = Flask(__name__)\n",
    "\n",
    "@app.route(\"/user/<name>\")\n",
    "def user(name):\n",
    "    return f\"Hello {name}\""
   ]
  }
 ],
 "metadata": {
  "kernelspec": {
   "display_name": "Python 3",
   "language": "python",
   "name": "python3"
  },
  "language_info": {
   "name": "python",
   "version": "3.10"
  }
 },
 "nbformat": 4,
 "nbformat_minor": 5
}
