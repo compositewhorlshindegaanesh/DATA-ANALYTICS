{
  "cells": [
    {
      "cell_type": "markdown",
      "id": "3cfd5f2f",
      "metadata": {
        "id": "3cfd5f2f"
      },
      "source": [
        "## Theory Questions (Q1 - Q8)\n",
        "\n",
        "**Question 1:What is a random variable in probability theory?**\n",
        "\n",
        "A random variable is a numerical quantity whose value depends on the outcome of a random phenomenon. Formally, it is a function that assigns a real number to each outcome in a probability space.\n",
        "\n",
        "**Question 2:What are the types of random variables?**\n",
        "\n",
        "Types: (a) Discrete random variables — take countable values (e.g., 0,1,2,...). (b) Continuous random variables — take values in an interval (uncountably infinite), described by probability density functions.\n",
        "\n",
        "**Question 3:Explain the difference between discrete and continuous distributions.**\n",
        "\n",
        "Discrete distributions assign probabilities to individual outcomes (e.g., Binomial, Poisson). Continuous distributions use densities and probabilities are areas under the density curve (e.g., Normal, Exponential). Discrete PMF sums to 1; continuous PDF integrates to 1.\n",
        "\n",
        "**Question 4:What is a binomial distribution, and how is it used in probability?**\n",
        "\n",
        "Binomial distribution models the number of successes in n independent Bernoulli trials with success probability p. P(X=k)=C(n,k)p^k(1-p)^{n-k}. Used for yes/no repeated experiments (e.g., defective items in a sample).\n",
        "\n",
        "**Question 5:What is the standard normal distribution, and why is it important?**\n",
        "\n",
        "The standard normal distribution is the Normal(0,1) (mean 0, sd 1). It's important because many statistics can be standardized to it (z-scores), and it serves as the reference for normal-theory inference (tables, z-tests).\n",
        "\n",
        "**Question 6:What is the Central Limit Theorem (CLT), and why is it critical in statistics?**\n",
        "\n",
        "Central Limit Theorem (CLT): For a large sample size n, the distribution of the sample mean (or sum) of i.i.d. random variables approaches a normal distribution with mean equal to the population mean and variance equal to population variance/n, regardless of the original distribution's shape. Critical because it justifies using normal-based inference (confidence intervals, hypothesis tests) even when the population is not normal.\n",
        "\n",
        "**Question 7:What is the significance of confidence intervals in statistical analysis?**\n",
        "\n",
        "Confidence intervals provide a range of plausible values for an unknown parameter (e.g., population mean). A 95% CI means that, over many repeated samples, 95% of such intervals will contain the true parameter. They convey uncertainty in point estimates.\n",
        "\n",
        "**Question 8:What is the concept of expected value in a probability distribution?**\n",
        "\n",
        "Expected value (mean) of a random variable is the long-run average value: for discrete X, E[X]=sum x * P(X=x); for continuous X, E[X]=∫ x f(x) dx. It measures the central tendency of the distribution.\n",
        "\n"
      ]
    },
    {
      "cell_type": "code",
      "execution_count": 1,
      "id": "557cf0c7",
      "metadata": {
        "id": "557cf0c7",
        "colab": {
          "base_uri": "https://localhost:8080/",
          "height": 445
        },
        "outputId": "d9285390-c939-40fe-fd05-ec29ca7fffae"
      },
      "outputs": [
        {
          "output_type": "stream",
          "name": "stdout",
          "text": [
            "Sample mean: 50.096660279111624\n",
            "Sample std (ddof=1): 4.896079690898378\n"
          ]
        },
        {
          "output_type": "display_data",
          "data": {
            "text/plain": [
              "<Figure size 800x400 with 1 Axes>"
            ],
            "image/png": "[encoded data removed]"
          },
          "metadata": {}
        }
      ],
      "source": [
        "# Question 9\n",
        "import numpy as np\n",
        "import matplotlib.pyplot as plt\n",
        "\n",
        "np.random.seed(42)\n",
        "samples = np.random.normal(loc=50, scale=5, size=1000)\n",
        "print(\"Sample mean:\", samples.mean())\n",
        "print(\"Sample std (ddof=1):\", samples.std(ddof=1))\n",
        "\n",
        "plt.figure(figsize=(8,4))\n",
        "plt.hist(samples, bins=30)\n",
        "plt.title(\"Histogram of 1000 samples from N(50,5^2)\")\n",
        "plt.xlabel(\"Value\")\n",
        "plt.ylabel(\"Frequency\")\n",
        "plt.show()\n"
      ]
    },
    {
      "cell_type": "markdown",
      "id": "0b6c49cc",
      "metadata": {
        "id": "0b6c49cc"
      },
      "source": [
        "## Question 10 — CLT application and 95% CI for average daily sales\n",
        "\n",
        "**Approach (using CLT):**\n",
        "- The Central Limit Theorem tells us that the distribution of the sample mean is approximately normal when sample size is reasonably large (common rule: n ≥ 30). For smaller n, if the original data are not strongly non-normal, the t-distribution gives better coverage.\n",
        "- We compute the sample mean \\(\\bar{x}\\), sample standard deviation s, standard error \\(SE = s/\\sqrt{n}\\), and then a 95% confidence interval:\n",
        "  - If using t-distribution: \\(\\bar{x} \\pm t_{0.975, n-1} \\times SE\\).\n",
        "  - If using normal approx (z): \\(\\bar{x} \\pm 1.96 \\times SE\\).\n"
      ]
    },
    {
      "cell_type": "code",
      "execution_count": 2,
      "id": "9fd7e6f2",
      "metadata": {
        "id": "9fd7e6f2",
        "colab": {
          "base_uri": "https://localhost:8080/"
        },
        "outputId": "0ba01a56-77e9-40e3-abf3-f2bae525304d"
      },
      "outputs": [
        {
          "output_type": "stream",
          "name": "stdout",
          "text": [
            "n = 20\n",
            "Sample mean = 248.25\n",
            "Sample sd (ddof=1) = 17.26534405284638\n",
            "Standard error = 3.860648295708623\n",
            "Using critical value: 2.093024054408263 (t (df=19))\n",
            "95% CI for mean: [240.170, 256.330]\n"
          ]
        }
      ],
      "source": [
        "# Question 10 code: compute mean and 95% CI for daily_sales\n",
        "import numpy as np, math\n",
        "daily_sales = [220, 245, 210, 265, 230, 250, 260, 275, 240, 255, 235, 260, 245, 250, 225, 270, 265, 255, 250, 260]\n",
        "n = len(daily_sales)\n",
        "mean_sales = np.mean(daily_sales)\n",
        "std_sales = np.std(daily_sales, ddof=1)\n",
        "se = std_sales / math.sqrt(n)\n",
        "\n",
        "try:\n",
        "    from scipy import stats\n",
        "    t_crit = stats.t.ppf(0.975, df=n-1)\n",
        "    crit_name = f\"t (df={n-1})\"\n",
        "except Exception:\n",
        "    t_crit = 1.96\n",
        "    crit_name = \"z (normal approx)\"\n",
        "\n",
        "ci_lower = mean_sales - t_crit * se\n",
        "ci_upper = mean_sales + t_crit * se\n",
        "\n",
        "print(\"n =\", n)\n",
        "print(\"Sample mean =\", mean_sales)\n",
        "print(\"Sample sd (ddof=1) =\", std_sales)\n",
        "print(\"Standard error =\", se)\n",
        "print(f\"Using critical value: {t_crit} ({crit_name})\")\n",
        "print(f\"95% CI for mean: [{ci_lower:.3f}, {ci_upper:.3f}]\")\n"
      ]
    }
  ],
  "metadata": {
    "colab": {
      "provenance": []
    },
    "language_info": {
      "name": "python"
    },
    "kernelspec": {
      "name": "python3",
      "display_name": "Python 3"
    }
  },
  "nbformat": 4,
  "nbformat_minor": 5
}